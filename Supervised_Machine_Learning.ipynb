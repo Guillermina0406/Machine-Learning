{
  "cells": [
    {
      "cell_type": "markdown",
      "metadata": {
        "id": "view-in-github",
        "colab_type": "text"
      },
      "source": [
        "<a href=\"https://colab.research.google.com/github/Guillermina0406/Machine-Learning/blob/main/Supervised_Machine_Learning.ipynb\" target=\"_parent\"><img src=\"https://colab.research.google.com/assets/colab-badge.svg\" alt=\"Open In Colab\"/></a>"
      ]
    },
    {
      "cell_type": "markdown",
      "id": "f52c92a9",
      "metadata": {
        "id": "f52c92a9"
      },
      "source": [
        "### REGRESIÓN Y CLASIFICACIÓN"
      ]
    },
    {
      "cell_type": "markdown",
      "id": "fba1aa76",
      "metadata": {
        "id": "fba1aa76"
      },
      "source": [
        "#### ALGORITMOS QUE UTILIZAN:"
      ]
    },
    {
      "cell_type": "code",
      "execution_count": null,
      "id": "591eff3d",
      "metadata": {
        "scrolled": true,
        "id": "591eff3d",
        "outputId": "57d18933-8650-4645-9ce0-9169bcafdf9b"
      },
      "outputs": [
        {
          "data": {
            "text/html": [
              "<div>\n",
              "<style scoped>\n",
              "    .dataframe tbody tr th:only-of-type {\n",
              "        vertical-align: middle;\n",
              "    }\n",
              "\n",
              "    .dataframe tbody tr th {\n",
              "        vertical-align: top;\n",
              "    }\n",
              "\n",
              "    .dataframe thead th {\n",
              "        text-align: right;\n",
              "    }\n",
              "</style>\n",
              "<table border=\"1\" class=\"dataframe\">\n",
              "  <thead>\n",
              "    <tr style=\"text-align: right;\">\n",
              "      <th></th>\n",
              "      <th>race/ethnicity</th>\n",
              "      <th>lunch</th>\n",
              "      <th>test preparation course</th>\n",
              "      <th>math score</th>\n",
              "      <th>reading score</th>\n",
              "      <th>writing score</th>\n",
              "      <th>females</th>\n",
              "      <th>male</th>\n",
              "      <th>associate's degree</th>\n",
              "      <th>bachelor's degree</th>\n",
              "      <th>high school</th>\n",
              "      <th>master's degree</th>\n",
              "      <th>some college</th>\n",
              "      <th>some high school</th>\n",
              "    </tr>\n",
              "  </thead>\n",
              "  <tbody>\n",
              "    <tr>\n",
              "      <th>0</th>\n",
              "      <td>1</td>\n",
              "      <td>1</td>\n",
              "      <td>1</td>\n",
              "      <td>72</td>\n",
              "      <td>72</td>\n",
              "      <td>74</td>\n",
              "      <td>1</td>\n",
              "      <td>0</td>\n",
              "      <td>0.0</td>\n",
              "      <td>1.0</td>\n",
              "      <td>0.0</td>\n",
              "      <td>0.0</td>\n",
              "      <td>0.0</td>\n",
              "      <td>0.0</td>\n",
              "    </tr>\n",
              "    <tr>\n",
              "      <th>1</th>\n",
              "      <td>2</td>\n",
              "      <td>1</td>\n",
              "      <td>0</td>\n",
              "      <td>69</td>\n",
              "      <td>90</td>\n",
              "      <td>88</td>\n",
              "      <td>1</td>\n",
              "      <td>0</td>\n",
              "      <td>0.0</td>\n",
              "      <td>0.0</td>\n",
              "      <td>0.0</td>\n",
              "      <td>0.0</td>\n",
              "      <td>1.0</td>\n",
              "      <td>0.0</td>\n",
              "    </tr>\n",
              "    <tr>\n",
              "      <th>2</th>\n",
              "      <td>1</td>\n",
              "      <td>1</td>\n",
              "      <td>1</td>\n",
              "      <td>90</td>\n",
              "      <td>95</td>\n",
              "      <td>93</td>\n",
              "      <td>1</td>\n",
              "      <td>0</td>\n",
              "      <td>0.0</td>\n",
              "      <td>0.0</td>\n",
              "      <td>0.0</td>\n",
              "      <td>1.0</td>\n",
              "      <td>0.0</td>\n",
              "      <td>0.0</td>\n",
              "    </tr>\n",
              "    <tr>\n",
              "      <th>3</th>\n",
              "      <td>0</td>\n",
              "      <td>0</td>\n",
              "      <td>1</td>\n",
              "      <td>47</td>\n",
              "      <td>57</td>\n",
              "      <td>44</td>\n",
              "      <td>0</td>\n",
              "      <td>1</td>\n",
              "      <td>1.0</td>\n",
              "      <td>0.0</td>\n",
              "      <td>0.0</td>\n",
              "      <td>0.0</td>\n",
              "      <td>0.0</td>\n",
              "      <td>0.0</td>\n",
              "    </tr>\n",
              "    <tr>\n",
              "      <th>4</th>\n",
              "      <td>2</td>\n",
              "      <td>1</td>\n",
              "      <td>1</td>\n",
              "      <td>76</td>\n",
              "      <td>78</td>\n",
              "      <td>75</td>\n",
              "      <td>0</td>\n",
              "      <td>1</td>\n",
              "      <td>0.0</td>\n",
              "      <td>0.0</td>\n",
              "      <td>0.0</td>\n",
              "      <td>0.0</td>\n",
              "      <td>1.0</td>\n",
              "      <td>0.0</td>\n",
              "    </tr>\n",
              "    <tr>\n",
              "      <th>...</th>\n",
              "      <td>...</td>\n",
              "      <td>...</td>\n",
              "      <td>...</td>\n",
              "      <td>...</td>\n",
              "      <td>...</td>\n",
              "      <td>...</td>\n",
              "      <td>...</td>\n",
              "      <td>...</td>\n",
              "      <td>...</td>\n",
              "      <td>...</td>\n",
              "      <td>...</td>\n",
              "      <td>...</td>\n",
              "      <td>...</td>\n",
              "      <td>...</td>\n",
              "    </tr>\n",
              "    <tr>\n",
              "      <th>979</th>\n",
              "      <td>4</td>\n",
              "      <td>1</td>\n",
              "      <td>0</td>\n",
              "      <td>88</td>\n",
              "      <td>99</td>\n",
              "      <td>95</td>\n",
              "      <td>1</td>\n",
              "      <td>0</td>\n",
              "      <td>0.0</td>\n",
              "      <td>0.0</td>\n",
              "      <td>0.0</td>\n",
              "      <td>1.0</td>\n",
              "      <td>0.0</td>\n",
              "      <td>0.0</td>\n",
              "    </tr>\n",
              "    <tr>\n",
              "      <th>980</th>\n",
              "      <td>2</td>\n",
              "      <td>0</td>\n",
              "      <td>1</td>\n",
              "      <td>62</td>\n",
              "      <td>55</td>\n",
              "      <td>55</td>\n",
              "      <td>0</td>\n",
              "      <td>1</td>\n",
              "      <td>0.0</td>\n",
              "      <td>0.0</td>\n",
              "      <td>1.0</td>\n",
              "      <td>0.0</td>\n",
              "      <td>0.0</td>\n",
              "      <td>0.0</td>\n",
              "    </tr>\n",
              "    <tr>\n",
              "      <th>981</th>\n",
              "      <td>2</td>\n",
              "      <td>0</td>\n",
              "      <td>0</td>\n",
              "      <td>59</td>\n",
              "      <td>71</td>\n",
              "      <td>65</td>\n",
              "      <td>1</td>\n",
              "      <td>0</td>\n",
              "      <td>0.0</td>\n",
              "      <td>0.0</td>\n",
              "      <td>1.0</td>\n",
              "      <td>0.0</td>\n",
              "      <td>0.0</td>\n",
              "      <td>0.0</td>\n",
              "    </tr>\n",
              "    <tr>\n",
              "      <th>982</th>\n",
              "      <td>3</td>\n",
              "      <td>1</td>\n",
              "      <td>0</td>\n",
              "      <td>68</td>\n",
              "      <td>78</td>\n",
              "      <td>77</td>\n",
              "      <td>1</td>\n",
              "      <td>0</td>\n",
              "      <td>0.0</td>\n",
              "      <td>0.0</td>\n",
              "      <td>0.0</td>\n",
              "      <td>0.0</td>\n",
              "      <td>1.0</td>\n",
              "      <td>0.0</td>\n",
              "    </tr>\n",
              "    <tr>\n",
              "      <th>983</th>\n",
              "      <td>3</td>\n",
              "      <td>0</td>\n",
              "      <td>1</td>\n",
              "      <td>77</td>\n",
              "      <td>86</td>\n",
              "      <td>86</td>\n",
              "      <td>1</td>\n",
              "      <td>0</td>\n",
              "      <td>0.0</td>\n",
              "      <td>0.0</td>\n",
              "      <td>0.0</td>\n",
              "      <td>0.0</td>\n",
              "      <td>1.0</td>\n",
              "      <td>0.0</td>\n",
              "    </tr>\n",
              "  </tbody>\n",
              "</table>\n",
              "<p>984 rows × 14 columns</p>\n",
              "</div>"
            ],
            "text/plain": [
              "     race/ethnicity  lunch  test preparation course  math score  \\\n",
              "0                 1      1                        1          72   \n",
              "1                 2      1                        0          69   \n",
              "2                 1      1                        1          90   \n",
              "3                 0      0                        1          47   \n",
              "4                 2      1                        1          76   \n",
              "..              ...    ...                      ...         ...   \n",
              "979               4      1                        0          88   \n",
              "980               2      0                        1          62   \n",
              "981               2      0                        0          59   \n",
              "982               3      1                        0          68   \n",
              "983               3      0                        1          77   \n",
              "\n",
              "     reading score  writing score  females  male  associate's degree  \\\n",
              "0               72             74        1     0                 0.0   \n",
              "1               90             88        1     0                 0.0   \n",
              "2               95             93        1     0                 0.0   \n",
              "3               57             44        0     1                 1.0   \n",
              "4               78             75        0     1                 0.0   \n",
              "..             ...            ...      ...   ...                 ...   \n",
              "979             99             95        1     0                 0.0   \n",
              "980             55             55        0     1                 0.0   \n",
              "981             71             65        1     0                 0.0   \n",
              "982             78             77        1     0                 0.0   \n",
              "983             86             86        1     0                 0.0   \n",
              "\n",
              "     bachelor's degree  high school  master's degree  some college  \\\n",
              "0                  1.0          0.0              0.0           0.0   \n",
              "1                  0.0          0.0              0.0           1.0   \n",
              "2                  0.0          0.0              1.0           0.0   \n",
              "3                  0.0          0.0              0.0           0.0   \n",
              "4                  0.0          0.0              0.0           1.0   \n",
              "..                 ...          ...              ...           ...   \n",
              "979                0.0          0.0              1.0           0.0   \n",
              "980                0.0          1.0              0.0           0.0   \n",
              "981                0.0          1.0              0.0           0.0   \n",
              "982                0.0          0.0              0.0           1.0   \n",
              "983                0.0          0.0              0.0           1.0   \n",
              "\n",
              "     some high school  \n",
              "0                 0.0  \n",
              "1                 0.0  \n",
              "2                 0.0  \n",
              "3                 0.0  \n",
              "4                 0.0  \n",
              "..                ...  \n",
              "979               0.0  \n",
              "980               0.0  \n",
              "981               0.0  \n",
              "982               0.0  \n",
              "983               0.0  \n",
              "\n",
              "[984 rows x 14 columns]"
            ]
          },
          "execution_count": 11,
          "metadata": {},
          "output_type": "execute_result"
        }
      ],
      "source": [
        "import pandas as pd\n",
        "import numpy as np\n",
        "students=pd.read_csv(\"estudiantes_limpio.csv\")\n",
        "students"
      ]
    },
    {
      "cell_type": "code",
      "execution_count": null,
      "id": "78399fab",
      "metadata": {
        "id": "78399fab",
        "outputId": "31a5d7a3-054b-40d7-f4ce-493e0e83a0f1"
      },
      "outputs": [
        {
          "data": {
            "text/plain": [
              "race/ethnicity             0\n",
              "lunch                      0\n",
              "test preparation course    0\n",
              "math score                 0\n",
              "reading score              0\n",
              "writing score              0\n",
              "associate's degree         0\n",
              "bachelor's degree          0\n",
              "high school                0\n",
              "master's degree            0\n",
              "some college               0\n",
              "some high school           0\n",
              "dtype: int64"
            ]
          },
          "execution_count": 2,
          "metadata": {},
          "output_type": "execute_result"
        }
      ],
      "source": [
        "students.isnull().sum()"
      ]
    },
    {
      "cell_type": "markdown",
      "id": "f957df41",
      "metadata": {
        "id": "f957df41"
      },
      "source": [
        "Ahora tenemos que decidir qué variable o variables vamos a predecir. Esto quiere decir que tenemos que elegir cual va a ser la variable que al predecirla conteste la pregunta que nos hicimos de los datos."
      ]
    },
    {
      "cell_type": "markdown",
      "id": "fef86d8b",
      "metadata": {
        "id": "fef86d8b"
      },
      "source": [
        "Lo que queremos saber es: <br/>\n",
        "> 1.¿Qué puntaje final obtendrá un estudiante?<br/>\n",
        "> 2.Dado un estudiante, ¿aprobará o no el examen?"
      ]
    },
    {
      "cell_type": "markdown",
      "id": "a373c626",
      "metadata": {
        "id": "a373c626"
      },
      "source": [
        "##### ¿Qué tipo de problema estamos tratando de resolver?"
      ]
    },
    {
      "cell_type": "markdown",
      "id": "0b836a7e",
      "metadata": {
        "id": "0b836a7e"
      },
      "source": [
        "Para contestar estas preguntas vamos a obtener dos nuevas variables:<br/>\n",
        "* 1.El puntaje final: Lo obtendremos promediando los tres puntajes (matemáticas, lectura y escritura)\n",
        "* 2.Aprobado: Una etiqueta que me permita saber si cada estudiante del dataset aprobo el examen (puntaje final=>60) o no lo aprobo (puntaje < 60)."
      ]
    },
    {
      "cell_type": "code",
      "execution_count": null,
      "id": "be36021c",
      "metadata": {
        "id": "be36021c"
      },
      "outputs": [],
      "source": [
        "students['puntaje_final']=(students['reading score']+students['writing score']+students['math score'])/3"
      ]
    },
    {
      "cell_type": "markdown",
      "id": "76eb4e0f",
      "metadata": {
        "id": "76eb4e0f"
      },
      "source": [
        "#### Regresión Múltiple"
      ]
    },
    {
      "cell_type": "markdown",
      "id": "4ce9a230",
      "metadata": {
        "id": "4ce9a230"
      },
      "source": [
        "Comenzamos contestando la pregunta 1. Este problema es un problema de regresión (¿Por qué?)"
      ]
    },
    {
      "cell_type": "markdown",
      "id": "0c9384d6",
      "metadata": {
        "id": "0c9384d6"
      },
      "source": [
        "#### Selección de target (y) y variables (x)"
      ]
    },
    {
      "cell_type": "markdown",
      "id": "2a8a1219",
      "metadata": {
        "id": "2a8a1219"
      },
      "source": [
        "Lo primero que haremos, es seleccionar las variables o features que deseemos usar como variable independientes (aquellas que van a explicar mi predicción) y la variable a predecir.<br/>\n",
        "Usaremos todas las variables menos aquellas que fueron usadas para calcular el puntaje final. Debemos también asegurarnos de no incluir las variables a predecir. Como variable a predecir usaremos el puntaje final."
      ]
    },
    {
      "cell_type": "code",
      "execution_count": null,
      "id": "5afd3767",
      "metadata": {
        "id": "5afd3767"
      },
      "outputs": [],
      "source": [
        "#Elimino aquellas variables que no quiero incluir en el modelo y las guardo en x:\n",
        "x=students.drop(['math score','reading score', 'writing score','puntaje_final'], axis=1)"
      ]
    },
    {
      "cell_type": "code",
      "execution_count": null,
      "id": "8dae8557",
      "metadata": {
        "id": "8dae8557",
        "outputId": "53bbfcc6-9979-4858-e360-afbe1beb4392"
      },
      "outputs": [
        {
          "data": {
            "text/html": [
              "<div>\n",
              "<style scoped>\n",
              "    .dataframe tbody tr th:only-of-type {\n",
              "        vertical-align: middle;\n",
              "    }\n",
              "\n",
              "    .dataframe tbody tr th {\n",
              "        vertical-align: top;\n",
              "    }\n",
              "\n",
              "    .dataframe thead th {\n",
              "        text-align: right;\n",
              "    }\n",
              "</style>\n",
              "<table border=\"1\" class=\"dataframe\">\n",
              "  <thead>\n",
              "    <tr style=\"text-align: right;\">\n",
              "      <th></th>\n",
              "      <th>race/ethnicity</th>\n",
              "      <th>lunch</th>\n",
              "      <th>test preparation course</th>\n",
              "      <th>females</th>\n",
              "      <th>male</th>\n",
              "      <th>associate's degree</th>\n",
              "      <th>bachelor's degree</th>\n",
              "      <th>high school</th>\n",
              "      <th>master's degree</th>\n",
              "      <th>some college</th>\n",
              "      <th>some high school</th>\n",
              "    </tr>\n",
              "  </thead>\n",
              "  <tbody>\n",
              "    <tr>\n",
              "      <th>0</th>\n",
              "      <td>1</td>\n",
              "      <td>1</td>\n",
              "      <td>1</td>\n",
              "      <td>1</td>\n",
              "      <td>0</td>\n",
              "      <td>0.0</td>\n",
              "      <td>1.0</td>\n",
              "      <td>0.0</td>\n",
              "      <td>0.0</td>\n",
              "      <td>0.0</td>\n",
              "      <td>0.0</td>\n",
              "    </tr>\n",
              "    <tr>\n",
              "      <th>1</th>\n",
              "      <td>2</td>\n",
              "      <td>1</td>\n",
              "      <td>0</td>\n",
              "      <td>1</td>\n",
              "      <td>0</td>\n",
              "      <td>0.0</td>\n",
              "      <td>0.0</td>\n",
              "      <td>0.0</td>\n",
              "      <td>0.0</td>\n",
              "      <td>1.0</td>\n",
              "      <td>0.0</td>\n",
              "    </tr>\n",
              "    <tr>\n",
              "      <th>2</th>\n",
              "      <td>1</td>\n",
              "      <td>1</td>\n",
              "      <td>1</td>\n",
              "      <td>1</td>\n",
              "      <td>0</td>\n",
              "      <td>0.0</td>\n",
              "      <td>0.0</td>\n",
              "      <td>0.0</td>\n",
              "      <td>1.0</td>\n",
              "      <td>0.0</td>\n",
              "      <td>0.0</td>\n",
              "    </tr>\n",
              "    <tr>\n",
              "      <th>3</th>\n",
              "      <td>0</td>\n",
              "      <td>0</td>\n",
              "      <td>1</td>\n",
              "      <td>0</td>\n",
              "      <td>1</td>\n",
              "      <td>1.0</td>\n",
              "      <td>0.0</td>\n",
              "      <td>0.0</td>\n",
              "      <td>0.0</td>\n",
              "      <td>0.0</td>\n",
              "      <td>0.0</td>\n",
              "    </tr>\n",
              "    <tr>\n",
              "      <th>4</th>\n",
              "      <td>2</td>\n",
              "      <td>1</td>\n",
              "      <td>1</td>\n",
              "      <td>0</td>\n",
              "      <td>1</td>\n",
              "      <td>0.0</td>\n",
              "      <td>0.0</td>\n",
              "      <td>0.0</td>\n",
              "      <td>0.0</td>\n",
              "      <td>1.0</td>\n",
              "      <td>0.0</td>\n",
              "    </tr>\n",
              "    <tr>\n",
              "      <th>...</th>\n",
              "      <td>...</td>\n",
              "      <td>...</td>\n",
              "      <td>...</td>\n",
              "      <td>...</td>\n",
              "      <td>...</td>\n",
              "      <td>...</td>\n",
              "      <td>...</td>\n",
              "      <td>...</td>\n",
              "      <td>...</td>\n",
              "      <td>...</td>\n",
              "      <td>...</td>\n",
              "    </tr>\n",
              "    <tr>\n",
              "      <th>979</th>\n",
              "      <td>4</td>\n",
              "      <td>1</td>\n",
              "      <td>0</td>\n",
              "      <td>1</td>\n",
              "      <td>0</td>\n",
              "      <td>0.0</td>\n",
              "      <td>0.0</td>\n",
              "      <td>0.0</td>\n",
              "      <td>1.0</td>\n",
              "      <td>0.0</td>\n",
              "      <td>0.0</td>\n",
              "    </tr>\n",
              "    <tr>\n",
              "      <th>980</th>\n",
              "      <td>2</td>\n",
              "      <td>0</td>\n",
              "      <td>1</td>\n",
              "      <td>0</td>\n",
              "      <td>1</td>\n",
              "      <td>0.0</td>\n",
              "      <td>0.0</td>\n",
              "      <td>1.0</td>\n",
              "      <td>0.0</td>\n",
              "      <td>0.0</td>\n",
              "      <td>0.0</td>\n",
              "    </tr>\n",
              "    <tr>\n",
              "      <th>981</th>\n",
              "      <td>2</td>\n",
              "      <td>0</td>\n",
              "      <td>0</td>\n",
              "      <td>1</td>\n",
              "      <td>0</td>\n",
              "      <td>0.0</td>\n",
              "      <td>0.0</td>\n",
              "      <td>1.0</td>\n",
              "      <td>0.0</td>\n",
              "      <td>0.0</td>\n",
              "      <td>0.0</td>\n",
              "    </tr>\n",
              "    <tr>\n",
              "      <th>982</th>\n",
              "      <td>3</td>\n",
              "      <td>1</td>\n",
              "      <td>0</td>\n",
              "      <td>1</td>\n",
              "      <td>0</td>\n",
              "      <td>0.0</td>\n",
              "      <td>0.0</td>\n",
              "      <td>0.0</td>\n",
              "      <td>0.0</td>\n",
              "      <td>1.0</td>\n",
              "      <td>0.0</td>\n",
              "    </tr>\n",
              "    <tr>\n",
              "      <th>983</th>\n",
              "      <td>3</td>\n",
              "      <td>0</td>\n",
              "      <td>1</td>\n",
              "      <td>1</td>\n",
              "      <td>0</td>\n",
              "      <td>0.0</td>\n",
              "      <td>0.0</td>\n",
              "      <td>0.0</td>\n",
              "      <td>0.0</td>\n",
              "      <td>1.0</td>\n",
              "      <td>0.0</td>\n",
              "    </tr>\n",
              "  </tbody>\n",
              "</table>\n",
              "<p>984 rows × 11 columns</p>\n",
              "</div>"
            ],
            "text/plain": [
              "     race/ethnicity  lunch  test preparation course  females  male  \\\n",
              "0                 1      1                        1        1     0   \n",
              "1                 2      1                        0        1     0   \n",
              "2                 1      1                        1        1     0   \n",
              "3                 0      0                        1        0     1   \n",
              "4                 2      1                        1        0     1   \n",
              "..              ...    ...                      ...      ...   ...   \n",
              "979               4      1                        0        1     0   \n",
              "980               2      0                        1        0     1   \n",
              "981               2      0                        0        1     0   \n",
              "982               3      1                        0        1     0   \n",
              "983               3      0                        1        1     0   \n",
              "\n",
              "     associate's degree  bachelor's degree  high school  master's degree  \\\n",
              "0                   0.0                1.0          0.0              0.0   \n",
              "1                   0.0                0.0          0.0              0.0   \n",
              "2                   0.0                0.0          0.0              1.0   \n",
              "3                   1.0                0.0          0.0              0.0   \n",
              "4                   0.0                0.0          0.0              0.0   \n",
              "..                  ...                ...          ...              ...   \n",
              "979                 0.0                0.0          0.0              1.0   \n",
              "980                 0.0                0.0          1.0              0.0   \n",
              "981                 0.0                0.0          1.0              0.0   \n",
              "982                 0.0                0.0          0.0              0.0   \n",
              "983                 0.0                0.0          0.0              0.0   \n",
              "\n",
              "     some college  some high school  \n",
              "0             0.0               0.0  \n",
              "1             1.0               0.0  \n",
              "2             0.0               0.0  \n",
              "3             0.0               0.0  \n",
              "4             1.0               0.0  \n",
              "..            ...               ...  \n",
              "979           0.0               0.0  \n",
              "980           0.0               0.0  \n",
              "981           0.0               0.0  \n",
              "982           1.0               0.0  \n",
              "983           1.0               0.0  \n",
              "\n",
              "[984 rows x 11 columns]"
            ]
          },
          "execution_count": 14,
          "metadata": {},
          "output_type": "execute_result"
        }
      ],
      "source": [
        "x"
      ]
    },
    {
      "cell_type": "code",
      "execution_count": null,
      "id": "c9116d2a",
      "metadata": {
        "id": "c9116d2a"
      },
      "outputs": [],
      "source": [
        "lista_atributos=x.columns"
      ]
    },
    {
      "cell_type": "code",
      "execution_count": null,
      "id": "4743877f",
      "metadata": {
        "id": "4743877f"
      },
      "outputs": [],
      "source": [
        "# Ahora selecciono las etiquetas y las guardo en y.\n",
        "y=students['puntaje_final']"
      ]
    },
    {
      "cell_type": "code",
      "execution_count": null,
      "id": "87fdd214",
      "metadata": {
        "id": "87fdd214"
      },
      "outputs": [],
      "source": [
        "x,y=np.array(x), np.array(y)\n",
        "# porque e smás fácil trabajar con un array para el modelo"
      ]
    },
    {
      "cell_type": "code",
      "execution_count": null,
      "id": "16518a6d",
      "metadata": {
        "id": "16518a6d",
        "outputId": "65bd9968-d159-46e0-e94a-3995a268aa5c"
      },
      "outputs": [
        {
          "data": {
            "text/plain": [
              "array([[1., 1., 1., ..., 0., 0., 0.],\n",
              "       [2., 1., 0., ..., 0., 1., 0.],\n",
              "       [1., 1., 1., ..., 1., 0., 0.],\n",
              "       ...,\n",
              "       [2., 0., 0., ..., 0., 0., 0.],\n",
              "       [3., 1., 0., ..., 0., 1., 0.],\n",
              "       [3., 0., 1., ..., 0., 1., 0.]])"
            ]
          },
          "execution_count": 18,
          "metadata": {},
          "output_type": "execute_result"
        }
      ],
      "source": [
        "x"
      ]
    },
    {
      "cell_type": "code",
      "execution_count": null,
      "id": "033ff0d5",
      "metadata": {
        "id": "033ff0d5",
        "outputId": "0a48a2eb-dfa5-49bb-de86-d12601e29954"
      },
      "outputs": [
        {
          "data": {
            "text/plain": [
              "array([72.66666667, 82.33333333, 92.66666667, 49.33333333, 76.33333333,\n",
              "       77.33333333, 91.66666667, 40.66666667, 65.        , 49.33333333])"
            ]
          },
          "execution_count": 19,
          "metadata": {},
          "output_type": "execute_result"
        }
      ],
      "source": [
        "y[:10]"
      ]
    },
    {
      "cell_type": "markdown",
      "id": "1e97c15c",
      "metadata": {
        "id": "1e97c15c"
      },
      "source": [
        "#### Separando Train / Test"
      ]
    },
    {
      "cell_type": "markdown",
      "id": "0787b273",
      "metadata": {
        "id": "0787b273"
      },
      "source": [
        "Ahora tenemos que separar el dataset en conjuntos de entrenamiento (X_train, y_train) y de testeo (X_test, y_test) usando la función train_test_split de scikit-learn.<br/>\n",
        "\n",
        "¿Por qué seprarnos el dataset? Porque es necesario entrenar ek modelo con un set de datos. El modelo no puede ver los datos de evaluación cuando se esta entrenando!\n",
        "La forma en que se dividen los datos normalmente es 80% entrenamiento - 20% evaluación)"
      ]
    },
    {
      "cell_type": "code",
      "execution_count": null,
      "id": "3dc1c681",
      "metadata": {
        "id": "3dc1c681"
      },
      "outputs": [],
      "source": [
        "# Importamos la librería para separar el dataset\n",
        "from sklearn.model_selection import train_test_split"
      ]
    },
    {
      "cell_type": "code",
      "execution_count": null,
      "id": "007e42df",
      "metadata": {
        "id": "007e42df"
      },
      "outputs": [],
      "source": [
        "X_train, X_test, y_train, y_test=train_test_split(x,y, test_size=0.2, random_state=42)"
      ]
    },
    {
      "cell_type": "code",
      "execution_count": null,
      "id": "9616175a",
      "metadata": {
        "id": "9616175a",
        "outputId": "18b98ed6-a7a1-4ccf-d49e-37404eb115f4"
      },
      "outputs": [
        {
          "data": {
            "text/plain": [
              "(984, 11)"
            ]
          },
          "execution_count": 25,
          "metadata": {},
          "output_type": "execute_result"
        }
      ],
      "source": [
        "x.shape"
      ]
    },
    {
      "cell_type": "code",
      "execution_count": null,
      "id": "59c8093b",
      "metadata": {
        "id": "59c8093b",
        "outputId": "3d0752bd-f9c5-4596-f604-35086d13c05c"
      },
      "outputs": [
        {
          "data": {
            "text/plain": [
              "(787, 11)"
            ]
          },
          "execution_count": 26,
          "metadata": {},
          "output_type": "execute_result"
        }
      ],
      "source": [
        "X_train.shape"
      ]
    },
    {
      "cell_type": "markdown",
      "id": "0ef1d19e",
      "metadata": {
        "id": "0ef1d19e"
      },
      "source": [
        "#### Árboles de decisión -  Random Forest"
      ]
    },
    {
      "cell_type": "markdown",
      "id": "336fcdcd",
      "metadata": {
        "id": "336fcdcd"
      },
      "source": [
        "Recordemos que Random Forest es un algoritmo de ensamble. Hay dos técnicas para esto: Bagging y Boosting.<br/>\n",
        "\n",
        "El objetivo de bagging es entrenar distintos modelos, donde cada uno vea distintas porciones del entrenamiento. <br/>\n",
        "Random Forest, además de aplicar Bagging, también selecciona features al azar, de esa manera descorrelaciona aún más los distintos modelos de árbol creados."
      ]
    },
    {
      "cell_type": "code",
      "execution_count": null,
      "id": "29b3b192",
      "metadata": {
        "id": "29b3b192"
      },
      "outputs": [],
      "source": [
        "from sklearn.ensemble import RandomForestRegressor\n",
        "from sklearn.metrics import mean_absolute_error"
      ]
    },
    {
      "cell_type": "code",
      "execution_count": null,
      "id": "7a57d4a3",
      "metadata": {
        "id": "7a57d4a3"
      },
      "outputs": [],
      "source": [
        "# Inicializo el modelo criterioon: absolute_error\n",
        "regresor= RandomForestRegressor(criterion='absolute_error', random_state=42)#\"mse\" para el error cuadrático medio o, mae error absoluto medio"
      ]
    },
    {
      "cell_type": "markdown",
      "id": "f37865b4",
      "metadata": {
        "id": "f37865b4"
      },
      "source": [
        "Mean Absolute Error (MAE): This measures the absolute average distance between the real data and the predicted data, but it fails to punish large errors in prediction.<br/>\n",
        "Mean Square Error (MSE): This measures the squared average distance between the real data and the predicted data.Here, larger errors are well noted (better than MAE). But the disadvantage is that it also squares up the units of data as well. So, evaluation with different units is not at all justified.<br/>\n",
        "InvalidParameterError: The 'criterion' parameter of RandomForestRegressor must be a str among {'squared_error', 'friedman_mse', 'poisson', 'absolute_error'}. Got 'mae' instead."
      ]
    },
    {
      "cell_type": "code",
      "execution_count": null,
      "id": "82952025",
      "metadata": {
        "scrolled": true,
        "id": "82952025"
      },
      "outputs": [],
      "source": [
        "# Entreno el modelo\n",
        "regresor.fit(X_train, y_train);"
      ]
    },
    {
      "cell_type": "code",
      "execution_count": null,
      "id": "5a3c4e97",
      "metadata": {
        "id": "5a3c4e97",
        "outputId": "42e1e132-961d-4e99-edf0-e0a981140a1f"
      },
      "outputs": [
        {
          "data": {
            "text/plain": [
              "{'bootstrap': True,\n",
              " 'ccp_alpha': 0.0,\n",
              " 'criterion': 'absolute_error',\n",
              " 'max_depth': None,\n",
              " 'max_features': 1.0,\n",
              " 'max_leaf_nodes': None,\n",
              " 'max_samples': None,\n",
              " 'min_impurity_decrease': 0.0,\n",
              " 'min_samples_leaf': 1,\n",
              " 'min_samples_split': 2,\n",
              " 'min_weight_fraction_leaf': 0.0,\n",
              " 'n_estimators': 100,\n",
              " 'n_jobs': None,\n",
              " 'oob_score': False,\n",
              " 'random_state': 42,\n",
              " 'verbose': 0,\n",
              " 'warm_start': False}"
            ]
          },
          "execution_count": 38,
          "metadata": {},
          "output_type": "execute_result"
        }
      ],
      "source": [
        "regresor.get_params()\n",
        "# Bootstrap: cada vez que selecciono un subset de datos para aplicar un algoritmo, vuelvo a elegir los datos del siguiente o no.\n",
        "# max_features: cuántos features elijo en cada uno de los árboles\n",
        "# n_estimators cant de árboles que utilizo para entrenar el modelo\n",
        "#"
      ]
    },
    {
      "cell_type": "markdown",
      "id": "b278f3e9",
      "metadata": {
        "id": "b278f3e9"
      },
      "source": [
        "#### Evaluación del modelo"
      ]
    },
    {
      "cell_type": "code",
      "execution_count": null,
      "id": "e562c24f",
      "metadata": {
        "id": "e562c24f"
      },
      "outputs": [],
      "source": [
        "# Predigo los valores para el set de testeo\n",
        "y_pred=regresor.predict(X_test)"
      ]
    },
    {
      "cell_type": "code",
      "execution_count": null,
      "id": "5b1594c8",
      "metadata": {
        "id": "5b1594c8",
        "outputId": "2ee7e4fd-686d-4414-f8ac-ad17881db53c"
      },
      "outputs": [
        {
          "data": {
            "text/plain": [
              "11.090752961082913"
            ]
          },
          "execution_count": 40,
          "metadata": {},
          "output_type": "execute_result"
        }
      ],
      "source": [
        "# Calculo el error medio absoluto\n",
        "mean_absolute_error(y_test, y_pred)"
      ]
    },
    {
      "cell_type": "code",
      "execution_count": null,
      "id": "2c7c0fc3",
      "metadata": {
        "id": "2c7c0fc3",
        "outputId": "b6cbc97c-46a5-466f-d9a4-1d02c2833886"
      },
      "outputs": [
        {
          "data": {
            "text/plain": [
              "17.845828315064725"
            ]
          },
          "execution_count": 42,
          "metadata": {},
          "output_type": "execute_result"
        }
      ],
      "source": [
        "# Calculo el error porcentual medio\n",
        "np.mean((np.abs(y_pred - y_test)/y_test)*100)"
      ]
    },
    {
      "cell_type": "code",
      "execution_count": null,
      "id": "51a52f4c",
      "metadata": {
        "id": "51a52f4c"
      },
      "outputs": [],
      "source": [
        "# Predigo los valores para el set de training\n",
        "y_pred_train=regresor.predict(X_train)"
      ]
    },
    {
      "cell_type": "code",
      "execution_count": null,
      "id": "f6f324c0",
      "metadata": {
        "id": "f6f324c0",
        "outputId": "cf82662e-9af2-488e-b494-484e503f018c"
      },
      "outputs": [
        {
          "data": {
            "text/plain": [
              "8.165908513341805"
            ]
          },
          "execution_count": 47,
          "metadata": {},
          "output_type": "execute_result"
        }
      ],
      "source": [
        "mean_absolute_error(y_train, y_pred_train)\n",
        "# si el error de entranmiento es más bajo que el error de testeo, existe overfiting"
      ]
    },
    {
      "cell_type": "code",
      "execution_count": null,
      "id": "e16a7cf6",
      "metadata": {
        "id": "e16a7cf6",
        "outputId": "e399aa4d-0847-47cb-a4f2-bfbefec7bbcf"
      },
      "outputs": [
        {
          "data": {
            "text/plain": [
              "12.6567540589499"
            ]
          },
          "execution_count": 45,
          "metadata": {},
          "output_type": "execute_result"
        }
      ],
      "source": [
        "# Calculo el error porcentual medio promedio para el entrenamiento\n",
        "np.mean((np.abs(y_train-y_pred_train)/y_train)*100)"
      ]
    },
    {
      "cell_type": "markdown",
      "id": "119110d7",
      "metadata": {
        "id": "119110d7"
      },
      "source": [
        "Obtenemos la importancia de cada feature usando feature_importances_."
      ]
    },
    {
      "cell_type": "code",
      "execution_count": null,
      "id": "d1cb709a",
      "metadata": {
        "id": "d1cb709a",
        "outputId": "f3ff0b75-3cb0-470d-d069-1b7bd053d579"
      },
      "outputs": [
        {
          "name": "stdout",
          "output_type": "stream",
          "text": [
            "Atributo:race/ethnicity, Importancia:0.3213732979421006\n",
            "Atributo:lunch, Importancia:0.11311610447642817\n",
            "Atributo:test preparation course, Importancia:0.09888054279083844\n",
            "Atributo:females, Importancia:0.06422198022815341\n",
            "Atributo:male, Importancia:0.07034231036787507\n",
            "Atributo:associate's degree, Importancia:0.057637633484028415\n",
            "Atributo:bachelor's degree, Importancia:0.055642589438526\n",
            "Atributo:high school, Importancia:0.06051084256958122\n",
            "Atributo:master's degree, Importancia:0.045017266386332896\n",
            "Atributo:some college, Importancia:0.053000571200088144\n",
            "Atributo:some high school, Importancia:0.06025686111604767\n"
          ]
        }
      ],
      "source": [
        "for x,y in list(zip(lista_atributos, regresor.feature_importances_)):\n",
        "    print(f'Atributo:{x}, Importancia:{y}')"
      ]
    },
    {
      "cell_type": "code",
      "execution_count": null,
      "id": "16af9a0b",
      "metadata": {
        "id": "16af9a0b",
        "outputId": "976cf9c8-9fc7-46a8-eb21-b22011548c7f"
      },
      "outputs": [
        {
          "data": {
            "text/plain": [
              "68.77678949597629"
            ]
          },
          "execution_count": 49,
          "metadata": {},
          "output_type": "execute_result"
        }
      ],
      "source": [
        "np.mean(y_train)"
      ]
    },
    {
      "cell_type": "markdown",
      "id": "03f53fb4",
      "metadata": {
        "id": "03f53fb4"
      },
      "source": [
        "#### ¿Podemos aceptar un modelo que prediga con un 20% de error? ¿Qué podemos hacer ahora para mejorar nuestro modelo?"
      ]
    },
    {
      "cell_type": "markdown",
      "id": "d23491ef",
      "metadata": {
        "id": "d23491ef"
      },
      "source": [
        "Recordemos que utilizamos un algoritmo de  regresión, por lo tanto, vamos a usar los errores para poder evaluar el desempeño de nuestro modelo. Primero creemos unas funciones que nos permitirán obtener errores facilmente y graficar los resultados."
      ]
    },
    {
      "cell_type": "code",
      "execution_count": null,
      "id": "2a93df7a",
      "metadata": {
        "id": "2a93df7a"
      },
      "outputs": [],
      "source": [
        "def evaluation(y_test, predictions):\n",
        "    \"\"\"\n",
        "    Funcion que devuelve el absoluto medio y el error porcentual absoluto medio.\n",
        "    :param y_test: valores realese\n",
        "    :param predictions:valores predichos\n",
        "\n",
        "    :return: Devuelve el error absoluto medio y el error porcentual absoluto medio.\n",
        "    \"\"\"\n",
        "    #Calcula mae\n",
        "    mae=mean_absolute_error(y_test, predictions)\n",
        "    #calculate mape\n",
        "    mape=np.mean((np.abs(y_test-predictions)/y_test)*100)\n",
        "    #print calculated values\n",
        "    print(f\"El error absoluto medio para el modelo es {round(mae, 2)}\")\n",
        "    print(f\"El error porcentual absoluto medio para el modelo es {round(mape, 2)}\")"
      ]
    },
    {
      "cell_type": "code",
      "execution_count": null,
      "id": "33e4eb65",
      "metadata": {
        "id": "33e4eb65"
      },
      "outputs": [],
      "source": [
        "def graph_real_pred(y_test, predictions, color):\n",
        "    \"\"\"\n",
        "    Funcion que grafica los valores reales vs. predichos\n",
        "    :param y_test:valores reales\n",
        "    :param predictions: valores predichos\n",
        "    :param color: color para el plot.\n",
        "\n",
        "    :return: Scatterplot mostrando la relacion entre el valor real y el predicho\n",
        "    \"\"\"\n",
        "    plt.scatter(y_test, predictions, c=color, s=10)\n",
        "    plt.gca().spines['top'].set_visible(False)\n",
        "    plt.gca().spines['bottom'].set_visible(False)\n",
        "    plt.gca().spines['left'].set_visible(False)\n",
        "    plt.gca().spines['right'].set_visible(False)\n",
        "    plt.xlabel('Real', size=15, labelpad=1)\n",
        "    plt.ylabel('Predicted', size=15, labelpad=1)\n",
        "    plt.show()"
      ]
    },
    {
      "cell_type": "code",
      "execution_count": null,
      "id": "582f2ad4",
      "metadata": {
        "id": "582f2ad4"
      },
      "outputs": [],
      "source": [
        "import numpy as np\n",
        "import matplotlib as mpl\n",
        "import matplotlib.pyplot as plt\n",
        "\n",
        "def feature_importance(model, feature_list):\n",
        "    \"\"\"\n",
        "    Function that gets and plots the feature importance for the given model\n",
        "    :param model: the model to evaluate\n",
        "    :param feature _list: a list of features contained in the model\n",
        "\n",
        "    :returns a plot with feature importance\n",
        "    \"\"\"\n",
        "\n",
        "    #Obtiene la lista de importancias\n",
        "    importances=list(model.feature_importances_)\n",
        "    # Junta los nombres de los atributos y las importancias\n",
        "    feature_importances=[(feature, round(importance, 2)) for feature, importance in zip (feature_list, importances)]\n",
        "    # Ordena por orden de importancia\n",
        "    feature_importances=sorted(feature_importances, key=lambda x:x[1], reverse=True)\n",
        "    # Print la lista de importancias\n",
        "    [print ('Variable: {} Importance:{}'.format(*pair)) for pair in feature_importances];\n",
        "    # Colores\n",
        "    colors= plt.cm.rainbow(np.linspace(0,1, len (feature_list)))\n",
        "\n",
        "    # Caracteríticas en orden de importancia\n",
        "    characteristics=[x[0] for x in feature_importances]\n",
        "    # Obtiene las importancias\n",
        "    importances_plot=[x[1] for x in feature_importances]\n",
        "    # Grafica un bar plot\n",
        "    plt.bar(characteristics, importances_plot, color=colors)\n",
        "    # Personalizamos el grafico\n",
        "    plt.xticks(list(range(len(characteristics))), characteristics, rotation=90)\n",
        "    plt.gca().spines['top'].set_visible(False)\n",
        "    plt.gca().spines['bottom'].set_visible(False)\n",
        "    plt.gca().spines['left'].set_visible(False)\n",
        "    plt.gca().spines['right'].set_visible(False)\n",
        "    plt.gcf().subplots_adjust(bottom=0.3);"
      ]
    },
    {
      "cell_type": "markdown",
      "id": "005a3b28",
      "metadata": {
        "id": "005a3b28"
      },
      "source": [
        "#### Buscando mi modelo"
      ]
    },
    {
      "cell_type": "markdown",
      "id": "9d2f337a",
      "metadata": {
        "id": "9d2f337a"
      },
      "source": [
        "Lo primero que podemos hacer es tratar de optimizar los parametros del Random Forest. Para eso podemos revisar en la documentación que parámetros se pueden optimizar."
      ]
    },
    {
      "cell_type": "markdown",
      "id": "f312bd14",
      "metadata": {
        "id": "f312bd14"
      },
      "source": [
        "De manera de hacer una búsqueda, utilizaremos la función GridSearchCV."
      ]
    },
    {
      "cell_type": "code",
      "execution_count": null,
      "id": "4263dd8d",
      "metadata": {
        "id": "4263dd8d"
      },
      "outputs": [],
      "source": [
        "from sklearn.model_selection import GridSearchCV"
      ]
    },
    {
      "cell_type": "code",
      "execution_count": null,
      "id": "5bab87e3",
      "metadata": {
        "id": "5bab87e3"
      },
      "outputs": [],
      "source": [
        "# Valores para los parámetros a optimizar\n",
        "param_grid_rf={\n",
        "    'criterion':['absolute_error'],\n",
        "    'n_estimators':[70,80,90,100,120],\n",
        "    'max_features':['log2','sqrt'],\n",
        "    'max_depth':[1,3,5,10,20,50],\n",
        "    'min_samples_leaf':[1,3,5,10,20,50]\n",
        "}"
      ]
    },
    {
      "cell_type": "markdown",
      "id": "b0354642",
      "metadata": {
        "id": "b0354642"
      },
      "source": [
        "modelo 1: mae, 70, log2, 1, 1 --> CV=5 <br/>\n",
        "modelo 2: mae, 80, log2, 1, 1"
      ]
    },
    {
      "cell_type": "code",
      "execution_count": null,
      "id": "bf7c13ef",
      "metadata": {
        "id": "bf7c13ef"
      },
      "outputs": [],
      "source": [
        "#Inicializamos un modelo\n",
        "grid_regresor=RandomForestRegressor(random_state=42)"
      ]
    },
    {
      "cell_type": "code",
      "execution_count": null,
      "id": "c10019c3",
      "metadata": {
        "id": "c10019c3"
      },
      "outputs": [],
      "source": [
        "# Creamos la busqueda\n",
        "rf_search=GridSearchCV(estimator=grid_regresor, param_grid=param_grid_rf, cv=5, scoring='neg_mean_absolute_error', verbose=2, n_jobs=-1)"
      ]
    },
    {
      "cell_type": "code",
      "execution_count": null,
      "id": "9219e60e",
      "metadata": {
        "id": "9219e60e",
        "outputId": "fbfd31c8-30b6-47ac-941f-282681581ad2"
      },
      "outputs": [
        {
          "name": "stdout",
          "output_type": "stream",
          "text": [
            "Fitting 5 folds for each of 360 candidates, totalling 1800 fits\n"
          ]
        },
        {
          "data": {
            "text/html": [
              "<style>#sk-container-id-1 {color: black;background-color: white;}#sk-container-id-1 pre{padding: 0;}#sk-container-id-1 div.sk-toggleable {background-color: white;}#sk-container-id-1 label.sk-toggleable__label {cursor: pointer;display: block;width: 100%;margin-bottom: 0;padding: 0.3em;box-sizing: border-box;text-align: center;}#sk-container-id-1 label.sk-toggleable__label-arrow:before {content: \"▸\";float: left;margin-right: 0.25em;color: #696969;}#sk-container-id-1 label.sk-toggleable__label-arrow:hover:before {color: black;}#sk-container-id-1 div.sk-estimator:hover label.sk-toggleable__label-arrow:before {color: black;}#sk-container-id-1 div.sk-toggleable__content {max-height: 0;max-width: 0;overflow: hidden;text-align: left;background-color: #f0f8ff;}#sk-container-id-1 div.sk-toggleable__content pre {margin: 0.2em;color: black;border-radius: 0.25em;background-color: #f0f8ff;}#sk-container-id-1 input.sk-toggleable__control:checked~div.sk-toggleable__content {max-height: 200px;max-width: 100%;overflow: auto;}#sk-container-id-1 input.sk-toggleable__control:checked~label.sk-toggleable__label-arrow:before {content: \"▾\";}#sk-container-id-1 div.sk-estimator input.sk-toggleable__control:checked~label.sk-toggleable__label {background-color: #d4ebff;}#sk-container-id-1 div.sk-label input.sk-toggleable__control:checked~label.sk-toggleable__label {background-color: #d4ebff;}#sk-container-id-1 input.sk-hidden--visually {border: 0;clip: rect(1px 1px 1px 1px);clip: rect(1px, 1px, 1px, 1px);height: 1px;margin: -1px;overflow: hidden;padding: 0;position: absolute;width: 1px;}#sk-container-id-1 div.sk-estimator {font-family: monospace;background-color: #f0f8ff;border: 1px dotted black;border-radius: 0.25em;box-sizing: border-box;margin-bottom: 0.5em;}#sk-container-id-1 div.sk-estimator:hover {background-color: #d4ebff;}#sk-container-id-1 div.sk-parallel-item::after {content: \"\";width: 100%;border-bottom: 1px solid gray;flex-grow: 1;}#sk-container-id-1 div.sk-label:hover label.sk-toggleable__label {background-color: #d4ebff;}#sk-container-id-1 div.sk-serial::before {content: \"\";position: absolute;border-left: 1px solid gray;box-sizing: border-box;top: 0;bottom: 0;left: 50%;z-index: 0;}#sk-container-id-1 div.sk-serial {display: flex;flex-direction: column;align-items: center;background-color: white;padding-right: 0.2em;padding-left: 0.2em;position: relative;}#sk-container-id-1 div.sk-item {position: relative;z-index: 1;}#sk-container-id-1 div.sk-parallel {display: flex;align-items: stretch;justify-content: center;background-color: white;position: relative;}#sk-container-id-1 div.sk-item::before, #sk-container-id-1 div.sk-parallel-item::before {content: \"\";position: absolute;border-left: 1px solid gray;box-sizing: border-box;top: 0;bottom: 0;left: 50%;z-index: -1;}#sk-container-id-1 div.sk-parallel-item {display: flex;flex-direction: column;z-index: 1;position: relative;background-color: white;}#sk-container-id-1 div.sk-parallel-item:first-child::after {align-self: flex-end;width: 50%;}#sk-container-id-1 div.sk-parallel-item:last-child::after {align-self: flex-start;width: 50%;}#sk-container-id-1 div.sk-parallel-item:only-child::after {width: 0;}#sk-container-id-1 div.sk-dashed-wrapped {border: 1px dashed gray;margin: 0 0.4em 0.5em 0.4em;box-sizing: border-box;padding-bottom: 0.4em;background-color: white;}#sk-container-id-1 div.sk-label label {font-family: monospace;font-weight: bold;display: inline-block;line-height: 1.2em;}#sk-container-id-1 div.sk-label-container {text-align: center;}#sk-container-id-1 div.sk-container {/* jupyter's `normalize.less` sets `[hidden] { display: none; }` but bootstrap.min.css set `[hidden] { display: none !important; }` so we also need the `!important` here to be able to override the default hidden behavior on the sphinx rendered scikit-learn.org. See: https://github.com/scikit-learn/scikit-learn/issues/21755 */display: inline-block !important;position: relative;}#sk-container-id-1 div.sk-text-repr-fallback {display: none;}</style><div id=\"sk-container-id-1\" class=\"sk-top-container\"><div class=\"sk-text-repr-fallback\"><pre>GridSearchCV(cv=5, estimator=RandomForestRegressor(random_state=42), n_jobs=-1,\n",
              "             param_grid={&#x27;criterion&#x27;: [&#x27;absolute_error&#x27;],\n",
              "                         &#x27;max_depth&#x27;: [1, 3, 5, 10, 20, 50],\n",
              "                         &#x27;max_features&#x27;: [&#x27;log2&#x27;, &#x27;sqrt&#x27;],\n",
              "                         &#x27;min_samples_leaf&#x27;: [1, 3, 5, 10, 20, 50],\n",
              "                         &#x27;n_estimators&#x27;: [70, 80, 90, 100, 120]},\n",
              "             scoring=&#x27;neg_mean_absolute_error&#x27;, verbose=2)</pre><b>In a Jupyter environment, please rerun this cell to show the HTML representation or trust the notebook. <br />On GitHub, the HTML representation is unable to render, please try loading this page with nbviewer.org.</b></div><div class=\"sk-container\" hidden><div class=\"sk-item sk-dashed-wrapped\"><div class=\"sk-label-container\"><div class=\"sk-label sk-toggleable\"><input class=\"sk-toggleable__control sk-hidden--visually\" id=\"sk-estimator-id-1\" type=\"checkbox\" ><label for=\"sk-estimator-id-1\" class=\"sk-toggleable__label sk-toggleable__label-arrow\">GridSearchCV</label><div class=\"sk-toggleable__content\"><pre>GridSearchCV(cv=5, estimator=RandomForestRegressor(random_state=42), n_jobs=-1,\n",
              "             param_grid={&#x27;criterion&#x27;: [&#x27;absolute_error&#x27;],\n",
              "                         &#x27;max_depth&#x27;: [1, 3, 5, 10, 20, 50],\n",
              "                         &#x27;max_features&#x27;: [&#x27;log2&#x27;, &#x27;sqrt&#x27;],\n",
              "                         &#x27;min_samples_leaf&#x27;: [1, 3, 5, 10, 20, 50],\n",
              "                         &#x27;n_estimators&#x27;: [70, 80, 90, 100, 120]},\n",
              "             scoring=&#x27;neg_mean_absolute_error&#x27;, verbose=2)</pre></div></div></div><div class=\"sk-parallel\"><div class=\"sk-parallel-item\"><div class=\"sk-item\"><div class=\"sk-label-container\"><div class=\"sk-label sk-toggleable\"><input class=\"sk-toggleable__control sk-hidden--visually\" id=\"sk-estimator-id-2\" type=\"checkbox\" ><label for=\"sk-estimator-id-2\" class=\"sk-toggleable__label sk-toggleable__label-arrow\">estimator: RandomForestRegressor</label><div class=\"sk-toggleable__content\"><pre>RandomForestRegressor(random_state=42)</pre></div></div></div><div class=\"sk-serial\"><div class=\"sk-item\"><div class=\"sk-estimator sk-toggleable\"><input class=\"sk-toggleable__control sk-hidden--visually\" id=\"sk-estimator-id-3\" type=\"checkbox\" ><label for=\"sk-estimator-id-3\" class=\"sk-toggleable__label sk-toggleable__label-arrow\">RandomForestRegressor</label><div class=\"sk-toggleable__content\"><pre>RandomForestRegressor(random_state=42)</pre></div></div></div></div></div></div></div></div></div></div>"
            ],
            "text/plain": [
              "GridSearchCV(cv=5, estimator=RandomForestRegressor(random_state=42), n_jobs=-1,\n",
              "             param_grid={'criterion': ['absolute_error'],\n",
              "                         'max_depth': [1, 3, 5, 10, 20, 50],\n",
              "                         'max_features': ['log2', 'sqrt'],\n",
              "                         'min_samples_leaf': [1, 3, 5, 10, 20, 50],\n",
              "                         'n_estimators': [70, 80, 90, 100, 120]},\n",
              "             scoring='neg_mean_absolute_error', verbose=2)"
            ]
          },
          "execution_count": 64,
          "metadata": {},
          "output_type": "execute_result"
        }
      ],
      "source": [
        "# Corremos el gridsearch con una variación usando 3 folds.\n",
        "rf_search.fit(X_train, y_train)\n",
        "# arroja 5 iteraciones de cada una de la combinación de los parámetros"
      ]
    },
    {
      "cell_type": "markdown",
      "id": "848b64f2",
      "metadata": {
        "id": "848b64f2"
      },
      "source": [
        "#### ¿Cuál es nuestro mejor estimador?"
      ]
    },
    {
      "cell_type": "code",
      "execution_count": null,
      "id": "d3f8c934",
      "metadata": {
        "scrolled": true,
        "id": "d3f8c934",
        "outputId": "22b51381-9421-42da-a1e3-805929d46670"
      },
      "outputs": [
        {
          "data": {
            "text/html": [
              "<style>#sk-container-id-2 {color: black;background-color: white;}#sk-container-id-2 pre{padding: 0;}#sk-container-id-2 div.sk-toggleable {background-color: white;}#sk-container-id-2 label.sk-toggleable__label {cursor: pointer;display: block;width: 100%;margin-bottom: 0;padding: 0.3em;box-sizing: border-box;text-align: center;}#sk-container-id-2 label.sk-toggleable__label-arrow:before {content: \"▸\";float: left;margin-right: 0.25em;color: #696969;}#sk-container-id-2 label.sk-toggleable__label-arrow:hover:before {color: black;}#sk-container-id-2 div.sk-estimator:hover label.sk-toggleable__label-arrow:before {color: black;}#sk-container-id-2 div.sk-toggleable__content {max-height: 0;max-width: 0;overflow: hidden;text-align: left;background-color: #f0f8ff;}#sk-container-id-2 div.sk-toggleable__content pre {margin: 0.2em;color: black;border-radius: 0.25em;background-color: #f0f8ff;}#sk-container-id-2 input.sk-toggleable__control:checked~div.sk-toggleable__content {max-height: 200px;max-width: 100%;overflow: auto;}#sk-container-id-2 input.sk-toggleable__control:checked~label.sk-toggleable__label-arrow:before {content: \"▾\";}#sk-container-id-2 div.sk-estimator input.sk-toggleable__control:checked~label.sk-toggleable__label {background-color: #d4ebff;}#sk-container-id-2 div.sk-label input.sk-toggleable__control:checked~label.sk-toggleable__label {background-color: #d4ebff;}#sk-container-id-2 input.sk-hidden--visually {border: 0;clip: rect(1px 1px 1px 1px);clip: rect(1px, 1px, 1px, 1px);height: 1px;margin: -1px;overflow: hidden;padding: 0;position: absolute;width: 1px;}#sk-container-id-2 div.sk-estimator {font-family: monospace;background-color: #f0f8ff;border: 1px dotted black;border-radius: 0.25em;box-sizing: border-box;margin-bottom: 0.5em;}#sk-container-id-2 div.sk-estimator:hover {background-color: #d4ebff;}#sk-container-id-2 div.sk-parallel-item::after {content: \"\";width: 100%;border-bottom: 1px solid gray;flex-grow: 1;}#sk-container-id-2 div.sk-label:hover label.sk-toggleable__label {background-color: #d4ebff;}#sk-container-id-2 div.sk-serial::before {content: \"\";position: absolute;border-left: 1px solid gray;box-sizing: border-box;top: 0;bottom: 0;left: 50%;z-index: 0;}#sk-container-id-2 div.sk-serial {display: flex;flex-direction: column;align-items: center;background-color: white;padding-right: 0.2em;padding-left: 0.2em;position: relative;}#sk-container-id-2 div.sk-item {position: relative;z-index: 1;}#sk-container-id-2 div.sk-parallel {display: flex;align-items: stretch;justify-content: center;background-color: white;position: relative;}#sk-container-id-2 div.sk-item::before, #sk-container-id-2 div.sk-parallel-item::before {content: \"\";position: absolute;border-left: 1px solid gray;box-sizing: border-box;top: 0;bottom: 0;left: 50%;z-index: -1;}#sk-container-id-2 div.sk-parallel-item {display: flex;flex-direction: column;z-index: 1;position: relative;background-color: white;}#sk-container-id-2 div.sk-parallel-item:first-child::after {align-self: flex-end;width: 50%;}#sk-container-id-2 div.sk-parallel-item:last-child::after {align-self: flex-start;width: 50%;}#sk-container-id-2 div.sk-parallel-item:only-child::after {width: 0;}#sk-container-id-2 div.sk-dashed-wrapped {border: 1px dashed gray;margin: 0 0.4em 0.5em 0.4em;box-sizing: border-box;padding-bottom: 0.4em;background-color: white;}#sk-container-id-2 div.sk-label label {font-family: monospace;font-weight: bold;display: inline-block;line-height: 1.2em;}#sk-container-id-2 div.sk-label-container {text-align: center;}#sk-container-id-2 div.sk-container {/* jupyter's `normalize.less` sets `[hidden] { display: none; }` but bootstrap.min.css set `[hidden] { display: none !important; }` so we also need the `!important` here to be able to override the default hidden behavior on the sphinx rendered scikit-learn.org. See: https://github.com/scikit-learn/scikit-learn/issues/21755 */display: inline-block !important;position: relative;}#sk-container-id-2 div.sk-text-repr-fallback {display: none;}</style><div id=\"sk-container-id-2\" class=\"sk-top-container\"><div class=\"sk-text-repr-fallback\"><pre>RandomForestRegressor(criterion=&#x27;absolute_error&#x27;, max_depth=5,\n",
              "                      max_features=&#x27;log2&#x27;, min_samples_leaf=5, n_estimators=90,\n",
              "                      random_state=42)</pre><b>In a Jupyter environment, please rerun this cell to show the HTML representation or trust the notebook. <br />On GitHub, the HTML representation is unable to render, please try loading this page with nbviewer.org.</b></div><div class=\"sk-container\" hidden><div class=\"sk-item\"><div class=\"sk-estimator sk-toggleable\"><input class=\"sk-toggleable__control sk-hidden--visually\" id=\"sk-estimator-id-4\" type=\"checkbox\" checked><label for=\"sk-estimator-id-4\" class=\"sk-toggleable__label sk-toggleable__label-arrow\">RandomForestRegressor</label><div class=\"sk-toggleable__content\"><pre>RandomForestRegressor(criterion=&#x27;absolute_error&#x27;, max_depth=5,\n",
              "                      max_features=&#x27;log2&#x27;, min_samples_leaf=5, n_estimators=90,\n",
              "                      random_state=42)</pre></div></div></div></div></div>"
            ],
            "text/plain": [
              "RandomForestRegressor(criterion='absolute_error', max_depth=5,\n",
              "                      max_features='log2', min_samples_leaf=5, n_estimators=90,\n",
              "                      random_state=42)"
            ]
          },
          "execution_count": 65,
          "metadata": {},
          "output_type": "execute_result"
        }
      ],
      "source": [
        "rf_search.best_estimator_"
      ]
    },
    {
      "cell_type": "code",
      "execution_count": null,
      "id": "9c69aa30",
      "metadata": {
        "id": "9c69aa30",
        "outputId": "399dded6-dbac-439a-cf7a-c136a67f7d83"
      },
      "outputs": [
        {
          "data": {
            "text/plain": [
              "-9.909911326710086"
            ]
          },
          "execution_count": 66,
          "metadata": {},
          "output_type": "execute_result"
        }
      ],
      "source": [
        "rf_search.best_score_"
      ]
    },
    {
      "cell_type": "code",
      "execution_count": null,
      "id": "ca6e513b",
      "metadata": {
        "id": "ca6e513b"
      },
      "outputs": [],
      "source": [
        "# Asignamos el mejor estimator a mejor_regresor\n",
        "mejor_regresor=RandomForestRegressor(criterion='absolute_error', max_depth=5,\n",
        "                      max_features='log2', min_samples_leaf=5, n_estimators=90,\n",
        "                      random_state=42)"
      ]
    },
    {
      "cell_type": "code",
      "execution_count": null,
      "id": "36c1f522",
      "metadata": {
        "id": "36c1f522",
        "outputId": "f78b3a46-fa06-4267-b3c5-37a4d0a0be97"
      },
      "outputs": [
        {
          "data": {
            "text/html": [
              "<style>#sk-container-id-3 {color: black;background-color: white;}#sk-container-id-3 pre{padding: 0;}#sk-container-id-3 div.sk-toggleable {background-color: white;}#sk-container-id-3 label.sk-toggleable__label {cursor: pointer;display: block;width: 100%;margin-bottom: 0;padding: 0.3em;box-sizing: border-box;text-align: center;}#sk-container-id-3 label.sk-toggleable__label-arrow:before {content: \"▸\";float: left;margin-right: 0.25em;color: #696969;}#sk-container-id-3 label.sk-toggleable__label-arrow:hover:before {color: black;}#sk-container-id-3 div.sk-estimator:hover label.sk-toggleable__label-arrow:before {color: black;}#sk-container-id-3 div.sk-toggleable__content {max-height: 0;max-width: 0;overflow: hidden;text-align: left;background-color: #f0f8ff;}#sk-container-id-3 div.sk-toggleable__content pre {margin: 0.2em;color: black;border-radius: 0.25em;background-color: #f0f8ff;}#sk-container-id-3 input.sk-toggleable__control:checked~div.sk-toggleable__content {max-height: 200px;max-width: 100%;overflow: auto;}#sk-container-id-3 input.sk-toggleable__control:checked~label.sk-toggleable__label-arrow:before {content: \"▾\";}#sk-container-id-3 div.sk-estimator input.sk-toggleable__control:checked~label.sk-toggleable__label {background-color: #d4ebff;}#sk-container-id-3 div.sk-label input.sk-toggleable__control:checked~label.sk-toggleable__label {background-color: #d4ebff;}#sk-container-id-3 input.sk-hidden--visually {border: 0;clip: rect(1px 1px 1px 1px);clip: rect(1px, 1px, 1px, 1px);height: 1px;margin: -1px;overflow: hidden;padding: 0;position: absolute;width: 1px;}#sk-container-id-3 div.sk-estimator {font-family: monospace;background-color: #f0f8ff;border: 1px dotted black;border-radius: 0.25em;box-sizing: border-box;margin-bottom: 0.5em;}#sk-container-id-3 div.sk-estimator:hover {background-color: #d4ebff;}#sk-container-id-3 div.sk-parallel-item::after {content: \"\";width: 100%;border-bottom: 1px solid gray;flex-grow: 1;}#sk-container-id-3 div.sk-label:hover label.sk-toggleable__label {background-color: #d4ebff;}#sk-container-id-3 div.sk-serial::before {content: \"\";position: absolute;border-left: 1px solid gray;box-sizing: border-box;top: 0;bottom: 0;left: 50%;z-index: 0;}#sk-container-id-3 div.sk-serial {display: flex;flex-direction: column;align-items: center;background-color: white;padding-right: 0.2em;padding-left: 0.2em;position: relative;}#sk-container-id-3 div.sk-item {position: relative;z-index: 1;}#sk-container-id-3 div.sk-parallel {display: flex;align-items: stretch;justify-content: center;background-color: white;position: relative;}#sk-container-id-3 div.sk-item::before, #sk-container-id-3 div.sk-parallel-item::before {content: \"\";position: absolute;border-left: 1px solid gray;box-sizing: border-box;top: 0;bottom: 0;left: 50%;z-index: -1;}#sk-container-id-3 div.sk-parallel-item {display: flex;flex-direction: column;z-index: 1;position: relative;background-color: white;}#sk-container-id-3 div.sk-parallel-item:first-child::after {align-self: flex-end;width: 50%;}#sk-container-id-3 div.sk-parallel-item:last-child::after {align-self: flex-start;width: 50%;}#sk-container-id-3 div.sk-parallel-item:only-child::after {width: 0;}#sk-container-id-3 div.sk-dashed-wrapped {border: 1px dashed gray;margin: 0 0.4em 0.5em 0.4em;box-sizing: border-box;padding-bottom: 0.4em;background-color: white;}#sk-container-id-3 div.sk-label label {font-family: monospace;font-weight: bold;display: inline-block;line-height: 1.2em;}#sk-container-id-3 div.sk-label-container {text-align: center;}#sk-container-id-3 div.sk-container {/* jupyter's `normalize.less` sets `[hidden] { display: none; }` but bootstrap.min.css set `[hidden] { display: none !important; }` so we also need the `!important` here to be able to override the default hidden behavior on the sphinx rendered scikit-learn.org. See: https://github.com/scikit-learn/scikit-learn/issues/21755 */display: inline-block !important;position: relative;}#sk-container-id-3 div.sk-text-repr-fallback {display: none;}</style><div id=\"sk-container-id-3\" class=\"sk-top-container\"><div class=\"sk-text-repr-fallback\"><pre>RandomForestRegressor(criterion=&#x27;absolute_error&#x27;, max_depth=5,\n",
              "                      max_features=&#x27;log2&#x27;, min_samples_leaf=5, n_estimators=90,\n",
              "                      random_state=42)</pre><b>In a Jupyter environment, please rerun this cell to show the HTML representation or trust the notebook. <br />On GitHub, the HTML representation is unable to render, please try loading this page with nbviewer.org.</b></div><div class=\"sk-container\" hidden><div class=\"sk-item\"><div class=\"sk-estimator sk-toggleable\"><input class=\"sk-toggleable__control sk-hidden--visually\" id=\"sk-estimator-id-5\" type=\"checkbox\" checked><label for=\"sk-estimator-id-5\" class=\"sk-toggleable__label sk-toggleable__label-arrow\">RandomForestRegressor</label><div class=\"sk-toggleable__content\"><pre>RandomForestRegressor(criterion=&#x27;absolute_error&#x27;, max_depth=5,\n",
              "                      max_features=&#x27;log2&#x27;, min_samples_leaf=5, n_estimators=90,\n",
              "                      random_state=42)</pre></div></div></div></div></div>"
            ],
            "text/plain": [
              "RandomForestRegressor(criterion='absolute_error', max_depth=5,\n",
              "                      max_features='log2', min_samples_leaf=5, n_estimators=90,\n",
              "                      random_state=42)"
            ]
          },
          "execution_count": 68,
          "metadata": {},
          "output_type": "execute_result"
        }
      ],
      "source": [
        "# Entrenamos el modelo\n",
        "mejor_regresor.fit(X_train, y_train)"
      ]
    },
    {
      "cell_type": "code",
      "execution_count": null,
      "id": "c622d87e",
      "metadata": {
        "id": "c622d87e"
      },
      "outputs": [],
      "source": [
        "# Hacemos la predicción para el test de evaluación\n",
        "predicciones=mejor_regresor.predict(X_test)"
      ]
    },
    {
      "cell_type": "code",
      "execution_count": null,
      "id": "9c9633a9",
      "metadata": {
        "id": "9c9633a9",
        "outputId": "99ccafdd-3437-43ee-c0cf-53f22a6d270b"
      },
      "outputs": [
        {
          "name": "stdout",
          "output_type": "stream",
          "text": [
            "El error absoluto medio para el modelo es 10.0\n",
            "El error porcentual absoluto medio para el modelo es 16.34\n"
          ]
        }
      ],
      "source": [
        "# Error\n",
        "evaluation(y_test, predicciones)"
      ]
    },
    {
      "cell_type": "code",
      "execution_count": null,
      "id": "e540535d",
      "metadata": {
        "id": "e540535d",
        "outputId": "42bab4f6-373a-4f19-8c83-f3155fa4c856"
      },
      "outputs": [
        {
          "data": {
            "image/png": "[encoded data removed]",
            "text/plain": [
              "<Figure size 640x480 with 1 Axes>"
            ]
          },
          "metadata": {},
          "output_type": "display_data"
        }
      ],
      "source": [
        "import matplotlib.pyplot as plt\n",
        "# Correlacion\n",
        "graph_real_pred(y_test, predicciones, color='#E67E22')"
      ]
    },
    {
      "cell_type": "code",
      "execution_count": null,
      "id": "5ec2f215",
      "metadata": {
        "id": "5ec2f215",
        "outputId": "2e16b2bb-d011-4c3e-e4e2-0879c63071be"
      },
      "outputs": [
        {
          "name": "stdout",
          "output_type": "stream",
          "text": [
            "Variable: lunch Importance:0.28\n",
            "Variable: test preparation course Importance:0.21\n",
            "Variable: race/ethnicity Importance:0.19\n",
            "Variable: high school Importance:0.06\n",
            "Variable: females Importance:0.05\n",
            "Variable: some high school Importance:0.05\n",
            "Variable: male Importance:0.04\n",
            "Variable: master's degree Importance:0.03\n",
            "Variable: associate's degree Importance:0.02\n",
            "Variable: bachelor's degree Importance:0.02\n",
            "Variable: some college Importance:0.02\n"
          ]
        },
        {
          "data": {
            "image/png": "[encoded data removed]",
            "text/plain": [
              "<Figure size 640x480 with 1 Axes>"
            ]
          },
          "metadata": {},
          "output_type": "display_data"
        }
      ],
      "source": [
        "# Importancia de cada feature\n",
        "feature_importance(mejor_regresor, lista_atributos)"
      ]
    },
    {
      "cell_type": "markdown",
      "id": "5b2ec54a",
      "metadata": {
        "id": "5b2ec54a"
      },
      "source": [
        "## Clasificación"
      ]
    },
    {
      "cell_type": "markdown",
      "id": "e47147a2",
      "metadata": {
        "id": "e47147a2"
      },
      "source": [
        "Contestaremos ahora la pregunta 2. Este problema es un problema de clasificación (¿Por qué?)<br/>\n",
        "\n",
        "Lo primero que veremos es si tenemos un desbalance de clases. Es muy importante ver que no tenemos una clase minoritaria, ya que esto afectaría el algoritmo. En nuestro caso, que trabajamos con una clasificación binaria, tener un desbalance de clases implica que tenemos del 10% de nuestros datos que pertenecen a una de las clases."
      ]
    },
    {
      "cell_type": "code",
      "execution_count": null,
      "id": "144fd17a",
      "metadata": {
        "id": "144fd17a",
        "outputId": "b1fff362-5414-4d53-9e5f-09d0b4298bf6"
      },
      "outputs": [
        {
          "data": {
            "text/html": [
              "<div>\n",
              "<style scoped>\n",
              "    .dataframe tbody tr th:only-of-type {\n",
              "        vertical-align: middle;\n",
              "    }\n",
              "\n",
              "    .dataframe tbody tr th {\n",
              "        vertical-align: top;\n",
              "    }\n",
              "\n",
              "    .dataframe thead th {\n",
              "        text-align: right;\n",
              "    }\n",
              "</style>\n",
              "<table border=\"1\" class=\"dataframe\">\n",
              "  <thead>\n",
              "    <tr style=\"text-align: right;\">\n",
              "      <th></th>\n",
              "      <th>race/ethnicity</th>\n",
              "      <th>lunch</th>\n",
              "      <th>test preparation course</th>\n",
              "      <th>math score</th>\n",
              "      <th>reading score</th>\n",
              "      <th>writing score</th>\n",
              "      <th>females</th>\n",
              "      <th>male</th>\n",
              "      <th>associate's degree</th>\n",
              "      <th>bachelor's degree</th>\n",
              "      <th>high school</th>\n",
              "      <th>master's degree</th>\n",
              "      <th>some college</th>\n",
              "      <th>some high school</th>\n",
              "    </tr>\n",
              "  </thead>\n",
              "  <tbody>\n",
              "    <tr>\n",
              "      <th>0</th>\n",
              "      <td>1</td>\n",
              "      <td>1</td>\n",
              "      <td>1</td>\n",
              "      <td>72</td>\n",
              "      <td>72</td>\n",
              "      <td>74</td>\n",
              "      <td>1</td>\n",
              "      <td>0</td>\n",
              "      <td>0.0</td>\n",
              "      <td>1.0</td>\n",
              "      <td>0.0</td>\n",
              "      <td>0.0</td>\n",
              "      <td>0.0</td>\n",
              "      <td>0.0</td>\n",
              "    </tr>\n",
              "    <tr>\n",
              "      <th>1</th>\n",
              "      <td>2</td>\n",
              "      <td>1</td>\n",
              "      <td>0</td>\n",
              "      <td>69</td>\n",
              "      <td>90</td>\n",
              "      <td>88</td>\n",
              "      <td>1</td>\n",
              "      <td>0</td>\n",
              "      <td>0.0</td>\n",
              "      <td>0.0</td>\n",
              "      <td>0.0</td>\n",
              "      <td>0.0</td>\n",
              "      <td>1.0</td>\n",
              "      <td>0.0</td>\n",
              "    </tr>\n",
              "    <tr>\n",
              "      <th>2</th>\n",
              "      <td>1</td>\n",
              "      <td>1</td>\n",
              "      <td>1</td>\n",
              "      <td>90</td>\n",
              "      <td>95</td>\n",
              "      <td>93</td>\n",
              "      <td>1</td>\n",
              "      <td>0</td>\n",
              "      <td>0.0</td>\n",
              "      <td>0.0</td>\n",
              "      <td>0.0</td>\n",
              "      <td>1.0</td>\n",
              "      <td>0.0</td>\n",
              "      <td>0.0</td>\n",
              "    </tr>\n",
              "    <tr>\n",
              "      <th>3</th>\n",
              "      <td>0</td>\n",
              "      <td>0</td>\n",
              "      <td>1</td>\n",
              "      <td>47</td>\n",
              "      <td>57</td>\n",
              "      <td>44</td>\n",
              "      <td>0</td>\n",
              "      <td>1</td>\n",
              "      <td>1.0</td>\n",
              "      <td>0.0</td>\n",
              "      <td>0.0</td>\n",
              "      <td>0.0</td>\n",
              "      <td>0.0</td>\n",
              "      <td>0.0</td>\n",
              "    </tr>\n",
              "    <tr>\n",
              "      <th>4</th>\n",
              "      <td>2</td>\n",
              "      <td>1</td>\n",
              "      <td>1</td>\n",
              "      <td>76</td>\n",
              "      <td>78</td>\n",
              "      <td>75</td>\n",
              "      <td>0</td>\n",
              "      <td>1</td>\n",
              "      <td>0.0</td>\n",
              "      <td>0.0</td>\n",
              "      <td>0.0</td>\n",
              "      <td>0.0</td>\n",
              "      <td>1.0</td>\n",
              "      <td>0.0</td>\n",
              "    </tr>\n",
              "    <tr>\n",
              "      <th>...</th>\n",
              "      <td>...</td>\n",
              "      <td>...</td>\n",
              "      <td>...</td>\n",
              "      <td>...</td>\n",
              "      <td>...</td>\n",
              "      <td>...</td>\n",
              "      <td>...</td>\n",
              "      <td>...</td>\n",
              "      <td>...</td>\n",
              "      <td>...</td>\n",
              "      <td>...</td>\n",
              "      <td>...</td>\n",
              "      <td>...</td>\n",
              "      <td>...</td>\n",
              "    </tr>\n",
              "    <tr>\n",
              "      <th>979</th>\n",
              "      <td>4</td>\n",
              "      <td>1</td>\n",
              "      <td>0</td>\n",
              "      <td>88</td>\n",
              "      <td>99</td>\n",
              "      <td>95</td>\n",
              "      <td>1</td>\n",
              "      <td>0</td>\n",
              "      <td>0.0</td>\n",
              "      <td>0.0</td>\n",
              "      <td>0.0</td>\n",
              "      <td>1.0</td>\n",
              "      <td>0.0</td>\n",
              "      <td>0.0</td>\n",
              "    </tr>\n",
              "    <tr>\n",
              "      <th>980</th>\n",
              "      <td>2</td>\n",
              "      <td>0</td>\n",
              "      <td>1</td>\n",
              "      <td>62</td>\n",
              "      <td>55</td>\n",
              "      <td>55</td>\n",
              "      <td>0</td>\n",
              "      <td>1</td>\n",
              "      <td>0.0</td>\n",
              "      <td>0.0</td>\n",
              "      <td>1.0</td>\n",
              "      <td>0.0</td>\n",
              "      <td>0.0</td>\n",
              "      <td>0.0</td>\n",
              "    </tr>\n",
              "    <tr>\n",
              "      <th>981</th>\n",
              "      <td>2</td>\n",
              "      <td>0</td>\n",
              "      <td>0</td>\n",
              "      <td>59</td>\n",
              "      <td>71</td>\n",
              "      <td>65</td>\n",
              "      <td>1</td>\n",
              "      <td>0</td>\n",
              "      <td>0.0</td>\n",
              "      <td>0.0</td>\n",
              "      <td>1.0</td>\n",
              "      <td>0.0</td>\n",
              "      <td>0.0</td>\n",
              "      <td>0.0</td>\n",
              "    </tr>\n",
              "    <tr>\n",
              "      <th>982</th>\n",
              "      <td>3</td>\n",
              "      <td>1</td>\n",
              "      <td>0</td>\n",
              "      <td>68</td>\n",
              "      <td>78</td>\n",
              "      <td>77</td>\n",
              "      <td>1</td>\n",
              "      <td>0</td>\n",
              "      <td>0.0</td>\n",
              "      <td>0.0</td>\n",
              "      <td>0.0</td>\n",
              "      <td>0.0</td>\n",
              "      <td>1.0</td>\n",
              "      <td>0.0</td>\n",
              "    </tr>\n",
              "    <tr>\n",
              "      <th>983</th>\n",
              "      <td>3</td>\n",
              "      <td>0</td>\n",
              "      <td>1</td>\n",
              "      <td>77</td>\n",
              "      <td>86</td>\n",
              "      <td>86</td>\n",
              "      <td>1</td>\n",
              "      <td>0</td>\n",
              "      <td>0.0</td>\n",
              "      <td>0.0</td>\n",
              "      <td>0.0</td>\n",
              "      <td>0.0</td>\n",
              "      <td>1.0</td>\n",
              "      <td>0.0</td>\n",
              "    </tr>\n",
              "  </tbody>\n",
              "</table>\n",
              "<p>984 rows × 14 columns</p>\n",
              "</div>"
            ],
            "text/plain": [
              "     race/ethnicity  lunch  test preparation course  math score  \\\n",
              "0                 1      1                        1          72   \n",
              "1                 2      1                        0          69   \n",
              "2                 1      1                        1          90   \n",
              "3                 0      0                        1          47   \n",
              "4                 2      1                        1          76   \n",
              "..              ...    ...                      ...         ...   \n",
              "979               4      1                        0          88   \n",
              "980               2      0                        1          62   \n",
              "981               2      0                        0          59   \n",
              "982               3      1                        0          68   \n",
              "983               3      0                        1          77   \n",
              "\n",
              "     reading score  writing score  females  male  associate's degree  \\\n",
              "0               72             74        1     0                 0.0   \n",
              "1               90             88        1     0                 0.0   \n",
              "2               95             93        1     0                 0.0   \n",
              "3               57             44        0     1                 1.0   \n",
              "4               78             75        0     1                 0.0   \n",
              "..             ...            ...      ...   ...                 ...   \n",
              "979             99             95        1     0                 0.0   \n",
              "980             55             55        0     1                 0.0   \n",
              "981             71             65        1     0                 0.0   \n",
              "982             78             77        1     0                 0.0   \n",
              "983             86             86        1     0                 0.0   \n",
              "\n",
              "     bachelor's degree  high school  master's degree  some college  \\\n",
              "0                  1.0          0.0              0.0           0.0   \n",
              "1                  0.0          0.0              0.0           1.0   \n",
              "2                  0.0          0.0              1.0           0.0   \n",
              "3                  0.0          0.0              0.0           0.0   \n",
              "4                  0.0          0.0              0.0           1.0   \n",
              "..                 ...          ...              ...           ...   \n",
              "979                0.0          0.0              1.0           0.0   \n",
              "980                0.0          1.0              0.0           0.0   \n",
              "981                0.0          1.0              0.0           0.0   \n",
              "982                0.0          0.0              0.0           1.0   \n",
              "983                0.0          0.0              0.0           1.0   \n",
              "\n",
              "     some high school  \n",
              "0                 0.0  \n",
              "1                 0.0  \n",
              "2                 0.0  \n",
              "3                 0.0  \n",
              "4                 0.0  \n",
              "..                ...  \n",
              "979               0.0  \n",
              "980               0.0  \n",
              "981               0.0  \n",
              "982               0.0  \n",
              "983               0.0  \n",
              "\n",
              "[984 rows x 14 columns]"
            ]
          },
          "execution_count": 16,
          "metadata": {},
          "output_type": "execute_result"
        }
      ],
      "source": [
        "import pandas as pd\n",
        "import numpy as np\n",
        "import matplotlib.pyplot as plt\n",
        "import seaborn as sns\n",
        "students=pd.read_csv(\"estudiantes_limpio.csv\")\n",
        "students"
      ]
    },
    {
      "cell_type": "code",
      "execution_count": null,
      "id": "53e5b86b",
      "metadata": {
        "id": "53e5b86b"
      },
      "outputs": [],
      "source": [
        "students['puntaje_final']=(students['reading score']+students['writing score']+students['math score'])/3"
      ]
    },
    {
      "cell_type": "code",
      "execution_count": null,
      "id": "e70769b6",
      "metadata": {
        "id": "e70769b6"
      },
      "outputs": [],
      "source": [
        "students['aprobado']=students['puntaje_final'].apply(lambda x: 0 if x<60 else 1)"
      ]
    },
    {
      "cell_type": "code",
      "execution_count": null,
      "id": "6f5d65c3",
      "metadata": {
        "scrolled": true,
        "id": "6f5d65c3",
        "outputId": "34272fb1-f224-4025-9a05-738a9d1bd750"
      },
      "outputs": [
        {
          "data": {
            "text/html": [
              "<div>\n",
              "<style scoped>\n",
              "    .dataframe tbody tr th:only-of-type {\n",
              "        vertical-align: middle;\n",
              "    }\n",
              "\n",
              "    .dataframe tbody tr th {\n",
              "        vertical-align: top;\n",
              "    }\n",
              "\n",
              "    .dataframe thead th {\n",
              "        text-align: right;\n",
              "    }\n",
              "</style>\n",
              "<table border=\"1\" class=\"dataframe\">\n",
              "  <thead>\n",
              "    <tr style=\"text-align: right;\">\n",
              "      <th></th>\n",
              "      <th>race/ethnicity</th>\n",
              "      <th>lunch</th>\n",
              "      <th>test preparation course</th>\n",
              "      <th>math score</th>\n",
              "      <th>reading score</th>\n",
              "      <th>writing score</th>\n",
              "      <th>females</th>\n",
              "      <th>male</th>\n",
              "      <th>associate's degree</th>\n",
              "      <th>bachelor's degree</th>\n",
              "      <th>high school</th>\n",
              "      <th>master's degree</th>\n",
              "      <th>some college</th>\n",
              "      <th>some high school</th>\n",
              "      <th>puntaje_final</th>\n",
              "      <th>aprobado</th>\n",
              "    </tr>\n",
              "  </thead>\n",
              "  <tbody>\n",
              "    <tr>\n",
              "      <th>0</th>\n",
              "      <td>1</td>\n",
              "      <td>1</td>\n",
              "      <td>1</td>\n",
              "      <td>72</td>\n",
              "      <td>72</td>\n",
              "      <td>74</td>\n",
              "      <td>1</td>\n",
              "      <td>0</td>\n",
              "      <td>0.0</td>\n",
              "      <td>1.0</td>\n",
              "      <td>0.0</td>\n",
              "      <td>0.0</td>\n",
              "      <td>0.0</td>\n",
              "      <td>0.0</td>\n",
              "      <td>72.666667</td>\n",
              "      <td>1</td>\n",
              "    </tr>\n",
              "    <tr>\n",
              "      <th>1</th>\n",
              "      <td>2</td>\n",
              "      <td>1</td>\n",
              "      <td>0</td>\n",
              "      <td>69</td>\n",
              "      <td>90</td>\n",
              "      <td>88</td>\n",
              "      <td>1</td>\n",
              "      <td>0</td>\n",
              "      <td>0.0</td>\n",
              "      <td>0.0</td>\n",
              "      <td>0.0</td>\n",
              "      <td>0.0</td>\n",
              "      <td>1.0</td>\n",
              "      <td>0.0</td>\n",
              "      <td>82.333333</td>\n",
              "      <td>1</td>\n",
              "    </tr>\n",
              "    <tr>\n",
              "      <th>2</th>\n",
              "      <td>1</td>\n",
              "      <td>1</td>\n",
              "      <td>1</td>\n",
              "      <td>90</td>\n",
              "      <td>95</td>\n",
              "      <td>93</td>\n",
              "      <td>1</td>\n",
              "      <td>0</td>\n",
              "      <td>0.0</td>\n",
              "      <td>0.0</td>\n",
              "      <td>0.0</td>\n",
              "      <td>1.0</td>\n",
              "      <td>0.0</td>\n",
              "      <td>0.0</td>\n",
              "      <td>92.666667</td>\n",
              "      <td>1</td>\n",
              "    </tr>\n",
              "    <tr>\n",
              "      <th>3</th>\n",
              "      <td>0</td>\n",
              "      <td>0</td>\n",
              "      <td>1</td>\n",
              "      <td>47</td>\n",
              "      <td>57</td>\n",
              "      <td>44</td>\n",
              "      <td>0</td>\n",
              "      <td>1</td>\n",
              "      <td>1.0</td>\n",
              "      <td>0.0</td>\n",
              "      <td>0.0</td>\n",
              "      <td>0.0</td>\n",
              "      <td>0.0</td>\n",
              "      <td>0.0</td>\n",
              "      <td>49.333333</td>\n",
              "      <td>0</td>\n",
              "    </tr>\n",
              "    <tr>\n",
              "      <th>4</th>\n",
              "      <td>2</td>\n",
              "      <td>1</td>\n",
              "      <td>1</td>\n",
              "      <td>76</td>\n",
              "      <td>78</td>\n",
              "      <td>75</td>\n",
              "      <td>0</td>\n",
              "      <td>1</td>\n",
              "      <td>0.0</td>\n",
              "      <td>0.0</td>\n",
              "      <td>0.0</td>\n",
              "      <td>0.0</td>\n",
              "      <td>1.0</td>\n",
              "      <td>0.0</td>\n",
              "      <td>76.333333</td>\n",
              "      <td>1</td>\n",
              "    </tr>\n",
              "  </tbody>\n",
              "</table>\n",
              "</div>"
            ],
            "text/plain": [
              "   race/ethnicity  lunch  test preparation course  math score  reading score  \\\n",
              "0               1      1                        1          72             72   \n",
              "1               2      1                        0          69             90   \n",
              "2               1      1                        1          90             95   \n",
              "3               0      0                        1          47             57   \n",
              "4               2      1                        1          76             78   \n",
              "\n",
              "   writing score  females  male  associate's degree  bachelor's degree  \\\n",
              "0             74        1     0                 0.0                1.0   \n",
              "1             88        1     0                 0.0                0.0   \n",
              "2             93        1     0                 0.0                0.0   \n",
              "3             44        0     1                 1.0                0.0   \n",
              "4             75        0     1                 0.0                0.0   \n",
              "\n",
              "   high school  master's degree  some college  some high school  \\\n",
              "0          0.0              0.0           0.0               0.0   \n",
              "1          0.0              0.0           1.0               0.0   \n",
              "2          0.0              1.0           0.0               0.0   \n",
              "3          0.0              0.0           0.0               0.0   \n",
              "4          0.0              0.0           1.0               0.0   \n",
              "\n",
              "   puntaje_final  aprobado  \n",
              "0      72.666667         1  \n",
              "1      82.333333         1  \n",
              "2      92.666667         1  \n",
              "3      49.333333         0  \n",
              "4      76.333333         1  "
            ]
          },
          "execution_count": 19,
          "metadata": {},
          "output_type": "execute_result"
        }
      ],
      "source": [
        "students.head()"
      ]
    },
    {
      "cell_type": "code",
      "execution_count": null,
      "id": "9f1e50b6",
      "metadata": {
        "id": "9f1e50b6",
        "outputId": "b2fb11f5-bf71-4c51-f2e9-f5988841ec72"
      },
      "outputs": [
        {
          "data": {
            "text/plain": [
              "(984, 16)"
            ]
          },
          "execution_count": 20,
          "metadata": {},
          "output_type": "execute_result"
        }
      ],
      "source": [
        "students.shape"
      ]
    },
    {
      "cell_type": "code",
      "execution_count": null,
      "id": "48efbf81",
      "metadata": {
        "id": "48efbf81",
        "outputId": "a235d428-bcec-4acc-cb02-024733a2b698"
      },
      "outputs": [
        {
          "data": {
            "image/png": "[encoded data removed]",
            "text/plain": [
              "<Figure size 640x480 with 1 Axes>"
            ]
          },
          "metadata": {},
          "output_type": "display_data"
        }
      ],
      "source": [
        "sns.countplot(x=students['aprobado'], palette='Dark2')\n",
        "sns.despine()\n",
        "# tenemos que mirar si hay desbalance de clase"
      ]
    },
    {
      "cell_type": "code",
      "execution_count": null,
      "id": "8be20137",
      "metadata": {
        "id": "8be20137",
        "outputId": "4dd0b8c7-7303-4879-ee72-cac0ecb99fc7"
      },
      "outputs": [
        {
          "data": {
            "text/plain": [
              "1    72.662602\n",
              "0    27.337398\n",
              "Name: aprobado, dtype: float64"
            ]
          },
          "execution_count": 22,
          "metadata": {},
          "output_type": "execute_result"
        }
      ],
      "source": [
        "students['aprobado'].value_counts()/students['aprobado'].size*100"
      ]
    },
    {
      "cell_type": "markdown",
      "id": "c7da6fe2",
      "metadata": {
        "id": "c7da6fe2"
      },
      "source": [
        "Como vemos que no hay desbalance podemos continuar"
      ]
    },
    {
      "cell_type": "markdown",
      "id": "67702c46",
      "metadata": {
        "id": "67702c46"
      },
      "source": [
        "#### Selección de target(y) y variable (X)"
      ]
    },
    {
      "cell_type": "markdown",
      "id": "dc84616f",
      "metadata": {
        "id": "dc84616f"
      },
      "source": [
        "Ahora seleccionaremos las variables o features que deseemos usar como variable independientes y la variable a predecir. <br/>\n",
        "\n",
        "Usaremos todas las variables menos aquellas que fueron usadas para calcular el puntaje final. Debemos también asegurarnos de no incluir las variables a predecir. Como variable a predecir usaremos __aprobado__."
      ]
    },
    {
      "cell_type": "code",
      "execution_count": null,
      "id": "dd606771",
      "metadata": {
        "id": "dd606771"
      },
      "outputs": [],
      "source": [
        "xc=students.drop(['math score', 'reading score','writing score','puntaje_final','aprobado'], axis=1)"
      ]
    },
    {
      "cell_type": "code",
      "execution_count": null,
      "id": "3b959979",
      "metadata": {
        "id": "3b959979",
        "outputId": "a87a393a-ee6d-4230-dfd6-81bc901c5ed6"
      },
      "outputs": [
        {
          "data": {
            "text/html": [
              "<div>\n",
              "<style scoped>\n",
              "    .dataframe tbody tr th:only-of-type {\n",
              "        vertical-align: middle;\n",
              "    }\n",
              "\n",
              "    .dataframe tbody tr th {\n",
              "        vertical-align: top;\n",
              "    }\n",
              "\n",
              "    .dataframe thead th {\n",
              "        text-align: right;\n",
              "    }\n",
              "</style>\n",
              "<table border=\"1\" class=\"dataframe\">\n",
              "  <thead>\n",
              "    <tr style=\"text-align: right;\">\n",
              "      <th></th>\n",
              "      <th>race/ethnicity</th>\n",
              "      <th>lunch</th>\n",
              "      <th>test preparation course</th>\n",
              "      <th>females</th>\n",
              "      <th>male</th>\n",
              "      <th>associate's degree</th>\n",
              "      <th>bachelor's degree</th>\n",
              "      <th>high school</th>\n",
              "      <th>master's degree</th>\n",
              "      <th>some college</th>\n",
              "      <th>some high school</th>\n",
              "    </tr>\n",
              "  </thead>\n",
              "  <tbody>\n",
              "    <tr>\n",
              "      <th>0</th>\n",
              "      <td>1</td>\n",
              "      <td>1</td>\n",
              "      <td>1</td>\n",
              "      <td>1</td>\n",
              "      <td>0</td>\n",
              "      <td>0.0</td>\n",
              "      <td>1.0</td>\n",
              "      <td>0.0</td>\n",
              "      <td>0.0</td>\n",
              "      <td>0.0</td>\n",
              "      <td>0.0</td>\n",
              "    </tr>\n",
              "    <tr>\n",
              "      <th>1</th>\n",
              "      <td>2</td>\n",
              "      <td>1</td>\n",
              "      <td>0</td>\n",
              "      <td>1</td>\n",
              "      <td>0</td>\n",
              "      <td>0.0</td>\n",
              "      <td>0.0</td>\n",
              "      <td>0.0</td>\n",
              "      <td>0.0</td>\n",
              "      <td>1.0</td>\n",
              "      <td>0.0</td>\n",
              "    </tr>\n",
              "    <tr>\n",
              "      <th>2</th>\n",
              "      <td>1</td>\n",
              "      <td>1</td>\n",
              "      <td>1</td>\n",
              "      <td>1</td>\n",
              "      <td>0</td>\n",
              "      <td>0.0</td>\n",
              "      <td>0.0</td>\n",
              "      <td>0.0</td>\n",
              "      <td>1.0</td>\n",
              "      <td>0.0</td>\n",
              "      <td>0.0</td>\n",
              "    </tr>\n",
              "    <tr>\n",
              "      <th>3</th>\n",
              "      <td>0</td>\n",
              "      <td>0</td>\n",
              "      <td>1</td>\n",
              "      <td>0</td>\n",
              "      <td>1</td>\n",
              "      <td>1.0</td>\n",
              "      <td>0.0</td>\n",
              "      <td>0.0</td>\n",
              "      <td>0.0</td>\n",
              "      <td>0.0</td>\n",
              "      <td>0.0</td>\n",
              "    </tr>\n",
              "    <tr>\n",
              "      <th>4</th>\n",
              "      <td>2</td>\n",
              "      <td>1</td>\n",
              "      <td>1</td>\n",
              "      <td>0</td>\n",
              "      <td>1</td>\n",
              "      <td>0.0</td>\n",
              "      <td>0.0</td>\n",
              "      <td>0.0</td>\n",
              "      <td>0.0</td>\n",
              "      <td>1.0</td>\n",
              "      <td>0.0</td>\n",
              "    </tr>\n",
              "    <tr>\n",
              "      <th>...</th>\n",
              "      <td>...</td>\n",
              "      <td>...</td>\n",
              "      <td>...</td>\n",
              "      <td>...</td>\n",
              "      <td>...</td>\n",
              "      <td>...</td>\n",
              "      <td>...</td>\n",
              "      <td>...</td>\n",
              "      <td>...</td>\n",
              "      <td>...</td>\n",
              "      <td>...</td>\n",
              "    </tr>\n",
              "    <tr>\n",
              "      <th>979</th>\n",
              "      <td>4</td>\n",
              "      <td>1</td>\n",
              "      <td>0</td>\n",
              "      <td>1</td>\n",
              "      <td>0</td>\n",
              "      <td>0.0</td>\n",
              "      <td>0.0</td>\n",
              "      <td>0.0</td>\n",
              "      <td>1.0</td>\n",
              "      <td>0.0</td>\n",
              "      <td>0.0</td>\n",
              "    </tr>\n",
              "    <tr>\n",
              "      <th>980</th>\n",
              "      <td>2</td>\n",
              "      <td>0</td>\n",
              "      <td>1</td>\n",
              "      <td>0</td>\n",
              "      <td>1</td>\n",
              "      <td>0.0</td>\n",
              "      <td>0.0</td>\n",
              "      <td>1.0</td>\n",
              "      <td>0.0</td>\n",
              "      <td>0.0</td>\n",
              "      <td>0.0</td>\n",
              "    </tr>\n",
              "    <tr>\n",
              "      <th>981</th>\n",
              "      <td>2</td>\n",
              "      <td>0</td>\n",
              "      <td>0</td>\n",
              "      <td>1</td>\n",
              "      <td>0</td>\n",
              "      <td>0.0</td>\n",
              "      <td>0.0</td>\n",
              "      <td>1.0</td>\n",
              "      <td>0.0</td>\n",
              "      <td>0.0</td>\n",
              "      <td>0.0</td>\n",
              "    </tr>\n",
              "    <tr>\n",
              "      <th>982</th>\n",
              "      <td>3</td>\n",
              "      <td>1</td>\n",
              "      <td>0</td>\n",
              "      <td>1</td>\n",
              "      <td>0</td>\n",
              "      <td>0.0</td>\n",
              "      <td>0.0</td>\n",
              "      <td>0.0</td>\n",
              "      <td>0.0</td>\n",
              "      <td>1.0</td>\n",
              "      <td>0.0</td>\n",
              "    </tr>\n",
              "    <tr>\n",
              "      <th>983</th>\n",
              "      <td>3</td>\n",
              "      <td>0</td>\n",
              "      <td>1</td>\n",
              "      <td>1</td>\n",
              "      <td>0</td>\n",
              "      <td>0.0</td>\n",
              "      <td>0.0</td>\n",
              "      <td>0.0</td>\n",
              "      <td>0.0</td>\n",
              "      <td>1.0</td>\n",
              "      <td>0.0</td>\n",
              "    </tr>\n",
              "  </tbody>\n",
              "</table>\n",
              "<p>984 rows × 11 columns</p>\n",
              "</div>"
            ],
            "text/plain": [
              "     race/ethnicity  lunch  test preparation course  females  male  \\\n",
              "0                 1      1                        1        1     0   \n",
              "1                 2      1                        0        1     0   \n",
              "2                 1      1                        1        1     0   \n",
              "3                 0      0                        1        0     1   \n",
              "4                 2      1                        1        0     1   \n",
              "..              ...    ...                      ...      ...   ...   \n",
              "979               4      1                        0        1     0   \n",
              "980               2      0                        1        0     1   \n",
              "981               2      0                        0        1     0   \n",
              "982               3      1                        0        1     0   \n",
              "983               3      0                        1        1     0   \n",
              "\n",
              "     associate's degree  bachelor's degree  high school  master's degree  \\\n",
              "0                   0.0                1.0          0.0              0.0   \n",
              "1                   0.0                0.0          0.0              0.0   \n",
              "2                   0.0                0.0          0.0              1.0   \n",
              "3                   1.0                0.0          0.0              0.0   \n",
              "4                   0.0                0.0          0.0              0.0   \n",
              "..                  ...                ...          ...              ...   \n",
              "979                 0.0                0.0          0.0              1.0   \n",
              "980                 0.0                0.0          1.0              0.0   \n",
              "981                 0.0                0.0          1.0              0.0   \n",
              "982                 0.0                0.0          0.0              0.0   \n",
              "983                 0.0                0.0          0.0              0.0   \n",
              "\n",
              "     some college  some high school  \n",
              "0             0.0               0.0  \n",
              "1             1.0               0.0  \n",
              "2             0.0               0.0  \n",
              "3             0.0               0.0  \n",
              "4             1.0               0.0  \n",
              "..            ...               ...  \n",
              "979           0.0               0.0  \n",
              "980           0.0               0.0  \n",
              "981           0.0               0.0  \n",
              "982           1.0               0.0  \n",
              "983           1.0               0.0  \n",
              "\n",
              "[984 rows x 11 columns]"
            ]
          },
          "execution_count": 24,
          "metadata": {},
          "output_type": "execute_result"
        }
      ],
      "source": [
        "xc"
      ]
    },
    {
      "cell_type": "code",
      "execution_count": null,
      "id": "02056225",
      "metadata": {
        "id": "02056225"
      },
      "outputs": [],
      "source": [
        "yc=students['aprobado']"
      ]
    },
    {
      "cell_type": "code",
      "execution_count": null,
      "id": "4ffc98d0",
      "metadata": {
        "scrolled": true,
        "id": "4ffc98d0",
        "outputId": "c26ccc4a-0f5b-4d9e-c14c-1e75c6cb5415"
      },
      "outputs": [
        {
          "data": {
            "text/plain": [
              "0      1\n",
              "1      1\n",
              "2      1\n",
              "3      0\n",
              "4      1\n",
              "      ..\n",
              "979    1\n",
              "980    0\n",
              "981    1\n",
              "982    1\n",
              "983    1\n",
              "Name: aprobado, Length: 984, dtype: int64"
            ]
          },
          "execution_count": 26,
          "metadata": {},
          "output_type": "execute_result"
        }
      ],
      "source": [
        "yc"
      ]
    },
    {
      "cell_type": "code",
      "execution_count": null,
      "id": "cd7c3545",
      "metadata": {
        "id": "cd7c3545"
      },
      "outputs": [],
      "source": [
        "xc, yc=np.array(xc), np.array(yc)"
      ]
    },
    {
      "cell_type": "code",
      "execution_count": null,
      "id": "0d1e0e8a",
      "metadata": {
        "id": "0d1e0e8a",
        "outputId": "fa5a7337-44af-4614-8140-fabcf0e73655"
      },
      "outputs": [
        {
          "data": {
            "text/plain": [
              "(984, 11)"
            ]
          },
          "execution_count": 28,
          "metadata": {},
          "output_type": "execute_result"
        }
      ],
      "source": [
        "xc.shape"
      ]
    },
    {
      "cell_type": "code",
      "execution_count": null,
      "id": "60b6285a",
      "metadata": {
        "id": "60b6285a",
        "outputId": "4dc625e2-dad1-44be-f380-50d259e00991"
      },
      "outputs": [
        {
          "data": {
            "text/plain": [
              "(984,)"
            ]
          },
          "execution_count": 29,
          "metadata": {},
          "output_type": "execute_result"
        }
      ],
      "source": [
        "yc.shape"
      ]
    },
    {
      "cell_type": "markdown",
      "id": "f794bc00",
      "metadata": {
        "id": "f794bc00"
      },
      "source": [
        "#### Separando Train/Test"
      ]
    },
    {
      "cell_type": "markdown",
      "id": "35a77c4a",
      "metadata": {
        "id": "35a77c4a"
      },
      "source": [
        "Separamos nuevamente el dataset en entrenamiento y testeo o evaluación."
      ]
    },
    {
      "cell_type": "code",
      "execution_count": null,
      "id": "595cf90b",
      "metadata": {
        "id": "595cf90b"
      },
      "outputs": [],
      "source": [
        "from sklearn.model_selection import train_test_split\n",
        "X_train_c, X_test_c, y_test_c, y_train_c=train_test_split(xc, yc, test_size=0.5, random_state=42)"
      ]
    },
    {
      "cell_type": "code",
      "execution_count": null,
      "id": "95c0798c",
      "metadata": {
        "id": "95c0798c",
        "outputId": "aa60117d-3730-41d9-a34c-1aadb24ba915"
      },
      "outputs": [
        {
          "data": {
            "text/plain": [
              "(492, 11)"
            ]
          },
          "execution_count": 31,
          "metadata": {},
          "output_type": "execute_result"
        }
      ],
      "source": [
        "X_test_c.shape"
      ]
    },
    {
      "cell_type": "code",
      "execution_count": null,
      "id": "a06be3bd",
      "metadata": {
        "id": "a06be3bd",
        "outputId": "eb4d763c-7edb-4694-9a21-54f81b630759"
      },
      "outputs": [
        {
          "data": {
            "text/plain": [
              "(492,)"
            ]
          },
          "execution_count": 32,
          "metadata": {},
          "output_type": "execute_result"
        }
      ],
      "source": [
        "y_test_c.shape"
      ]
    },
    {
      "cell_type": "code",
      "execution_count": null,
      "id": "6684cbf0",
      "metadata": {
        "id": "6684cbf0",
        "outputId": "8f7b5762-4548-48f3-a881-6b469bec87bd"
      },
      "outputs": [
        {
          "data": {
            "text/plain": [
              "(492,)"
            ]
          },
          "execution_count": 33,
          "metadata": {},
          "output_type": "execute_result"
        }
      ],
      "source": [
        "y_train_c.shape"
      ]
    },
    {
      "cell_type": "code",
      "execution_count": null,
      "id": "d6854214",
      "metadata": {
        "id": "d6854214",
        "outputId": "6161032a-8436-481f-cf11-ec1d467f86da"
      },
      "outputs": [
        {
          "data": {
            "text/plain": [
              "(492, 11)"
            ]
          },
          "execution_count": 34,
          "metadata": {},
          "output_type": "execute_result"
        }
      ],
      "source": [
        "X_train_c.shape"
      ]
    },
    {
      "cell_type": "markdown",
      "id": "c6c09ef4",
      "metadata": {
        "id": "c6c09ef4"
      },
      "source": [
        "#### Clasificador KNN"
      ]
    },
    {
      "cell_type": "markdown",
      "id": "3ed345fa",
      "metadata": {
        "id": "3ed345fa"
      },
      "source": [
        "Para realizar la clasificación utilizaremos el algoritmo  de los k-vecinos más cercanos."
      ]
    },
    {
      "cell_type": "code",
      "execution_count": null,
      "id": "61e001e0",
      "metadata": {
        "id": "61e001e0"
      },
      "outputs": [],
      "source": [
        "from sklearn.neighbors import KNeighborsClassifier"
      ]
    },
    {
      "cell_type": "code",
      "execution_count": null,
      "id": "70936bb5",
      "metadata": {
        "id": "70936bb5"
      },
      "outputs": [],
      "source": [
        "# métricas\n",
        "from sklearn.metrics import (\n",
        "    accuracy_score,\n",
        "    confusion_matrix,\n",
        "    precision_score,\n",
        "    recall_score,\n",
        "    f1_score\n",
        ")"
      ]
    },
    {
      "cell_type": "code",
      "execution_count": null,
      "id": "686a69bd",
      "metadata": {
        "id": "686a69bd"
      },
      "outputs": [],
      "source": [
        "knn=KNeighborsClassifier()"
      ]
    },
    {
      "cell_type": "code",
      "execution_count": null,
      "id": "fc5c48f4",
      "metadata": {
        "id": "fc5c48f4"
      },
      "outputs": [],
      "source": [
        "# Entrenamos el modelo\n",
        "knn.fit(X_train_c,y_train_c);"
      ]
    },
    {
      "cell_type": "code",
      "execution_count": null,
      "id": "447e8f11",
      "metadata": {
        "id": "447e8f11"
      },
      "outputs": [],
      "source": [
        "# Predecimos\n",
        "predicciones_cla=knn.predict(X_test_c)"
      ]
    },
    {
      "cell_type": "code",
      "execution_count": null,
      "id": "539aca5f",
      "metadata": {
        "id": "539aca5f"
      },
      "outputs": [],
      "source": [
        "predicciones_train=knn.predict(X_train_c)"
      ]
    },
    {
      "cell_type": "code",
      "execution_count": null,
      "id": "24c8f1fb",
      "metadata": {
        "id": "24c8f1fb",
        "outputId": "a8948793-5513-4415-f0e7-fbc2252e1cdc"
      },
      "outputs": [
        {
          "name": "stdout",
          "output_type": "stream",
          "text": [
            "77.44%\n"
          ]
        }
      ],
      "source": [
        "accuracy=accuracy_score(y_train_c, predicciones_train)*100\n",
        "print(f'{round(accuracy, 2)}%')"
      ]
    },
    {
      "cell_type": "code",
      "execution_count": null,
      "id": "cdc672ed",
      "metadata": {
        "id": "cdc672ed",
        "outputId": "a114adc0-0d7f-46bb-9c67-564055420191"
      },
      "outputs": [
        {
          "name": "stdout",
          "output_type": "stream",
          "text": [
            "68.9%\n"
          ]
        }
      ],
      "source": [
        "accuracy=accuracy_score(y_test_c, predicciones_cla)*100\n",
        "print(f'{round(accuracy, 2)}%')"
      ]
    },
    {
      "cell_type": "markdown",
      "id": "6a18fd9e",
      "metadata": {
        "id": "6a18fd9e"
      },
      "source": [
        "#### Buscando mi modelo"
      ]
    },
    {
      "cell_type": "markdown",
      "id": "7cc4e9c5",
      "metadata": {
        "id": "7cc4e9c5"
      },
      "source": [
        "Ahora vamos a optimizar los parámetros del clasificador kNN. Para eso podemos revisar en la documentación qué parámetros se puede optimizar.<br/>\n",
        "\n",
        "Vamos a buscar el mejor k:"
      ]
    },
    {
      "cell_type": "code",
      "execution_count": null,
      "id": "503c911b",
      "metadata": {
        "id": "503c911b"
      },
      "outputs": [],
      "source": [
        "ACC_train=[]\n",
        "ACC_test=[]\n",
        "vecinos=[1,3,5,10,15,20,25,30]\n",
        "for n in vecinos:\n",
        "    clf=KNeighborsClassifier(n_neighbors=n)\n",
        "    clf.fit(X_train_c, y_train_c)\n",
        "    y_train_pred=clf.predict(X_train_c)\n",
        "    train_acc=accuracy_score(y_train_c, y_train_pred)\n",
        "    ACC_train.append(train_acc)\n",
        "    y_test_pred=clf.predict(X_test_c)\n",
        "    test_acc=accuracy_score(y_test_c, y_test_pred)\n",
        "    ACC_test.append(test_acc)"
      ]
    },
    {
      "cell_type": "code",
      "execution_count": null,
      "id": "42e6bec3",
      "metadata": {
        "id": "42e6bec3",
        "outputId": "4c840162-e820-45ee-86c2-cd29787d83cd"
      },
      "outputs": [
        {
          "data": {
            "text/plain": [
              "<matplotlib.legend.Legend at 0x23e6051f4c0>"
            ]
          },
          "execution_count": 44,
          "metadata": {},
          "output_type": "execute_result"
        },
        {
          "data": {
            "image/png": "[encoded data removed]",
            "text/plain": [
              "<Figure size 640x480 with 1 Axes>"
            ]
          },
          "metadata": {},
          "output_type": "display_data"
        }
      ],
      "source": [
        "plt.plot(vecinos, ACC_train, 'o-', label='train', color='lawngreen')\n",
        "plt.plot(vecinos, ACC_test, 'o-', label='test', color='fuchsia')\n",
        "plt.legend()"
      ]
    },
    {
      "cell_type": "code",
      "execution_count": null,
      "id": "6d3fa86a",
      "metadata": {
        "id": "6d3fa86a"
      },
      "outputs": [],
      "source": [
        "# Valores para los parámetros a optimizar\n",
        "param_grid_vec={\n",
        "    'n_neighbors':[18,20,22],\n",
        "    'weights':['uniform','distance'],\n",
        "    'metric':['euclidean','manhattan'],\n",
        "}"
      ]
    },
    {
      "cell_type": "code",
      "execution_count": null,
      "id": "37f22142",
      "metadata": {
        "id": "37f22142"
      },
      "outputs": [],
      "source": [
        "knn_search=KNeighborsClassifier()"
      ]
    },
    {
      "cell_type": "code",
      "execution_count": null,
      "id": "7fd02133",
      "metadata": {
        "id": "7fd02133"
      },
      "outputs": [],
      "source": [
        "from sklearn.model_selection import GridSearchCV\n",
        "vecinos_search=GridSearchCV(estimator=knn_search, param_grid=param_grid_vec, cv=3, verbose=2, n_jobs=-1)"
      ]
    },
    {
      "cell_type": "code",
      "execution_count": null,
      "id": "d2d57ab3",
      "metadata": {
        "id": "d2d57ab3",
        "outputId": "aae6f875-cd63-4110-8172-5fcdf00334be"
      },
      "outputs": [
        {
          "name": "stdout",
          "output_type": "stream",
          "text": [
            "Fitting 3 folds for each of 12 candidates, totalling 36 fits\n"
          ]
        },
        {
          "data": {
            "text/html": [
              "<style>#sk-container-id-1 {color: black;background-color: white;}#sk-container-id-1 pre{padding: 0;}#sk-container-id-1 div.sk-toggleable {background-color: white;}#sk-container-id-1 label.sk-toggleable__label {cursor: pointer;display: block;width: 100%;margin-bottom: 0;padding: 0.3em;box-sizing: border-box;text-align: center;}#sk-container-id-1 label.sk-toggleable__label-arrow:before {content: \"▸\";float: left;margin-right: 0.25em;color: #696969;}#sk-container-id-1 label.sk-toggleable__label-arrow:hover:before {color: black;}#sk-container-id-1 div.sk-estimator:hover label.sk-toggleable__label-arrow:before {color: black;}#sk-container-id-1 div.sk-toggleable__content {max-height: 0;max-width: 0;overflow: hidden;text-align: left;background-color: #f0f8ff;}#sk-container-id-1 div.sk-toggleable__content pre {margin: 0.2em;color: black;border-radius: 0.25em;background-color: #f0f8ff;}#sk-container-id-1 input.sk-toggleable__control:checked~div.sk-toggleable__content {max-height: 200px;max-width: 100%;overflow: auto;}#sk-container-id-1 input.sk-toggleable__control:checked~label.sk-toggleable__label-arrow:before {content: \"▾\";}#sk-container-id-1 div.sk-estimator input.sk-toggleable__control:checked~label.sk-toggleable__label {background-color: #d4ebff;}#sk-container-id-1 div.sk-label input.sk-toggleable__control:checked~label.sk-toggleable__label {background-color: #d4ebff;}#sk-container-id-1 input.sk-hidden--visually {border: 0;clip: rect(1px 1px 1px 1px);clip: rect(1px, 1px, 1px, 1px);height: 1px;margin: -1px;overflow: hidden;padding: 0;position: absolute;width: 1px;}#sk-container-id-1 div.sk-estimator {font-family: monospace;background-color: #f0f8ff;border: 1px dotted black;border-radius: 0.25em;box-sizing: border-box;margin-bottom: 0.5em;}#sk-container-id-1 div.sk-estimator:hover {background-color: #d4ebff;}#sk-container-id-1 div.sk-parallel-item::after {content: \"\";width: 100%;border-bottom: 1px solid gray;flex-grow: 1;}#sk-container-id-1 div.sk-label:hover label.sk-toggleable__label {background-color: #d4ebff;}#sk-container-id-1 div.sk-serial::before {content: \"\";position: absolute;border-left: 1px solid gray;box-sizing: border-box;top: 0;bottom: 0;left: 50%;z-index: 0;}#sk-container-id-1 div.sk-serial {display: flex;flex-direction: column;align-items: center;background-color: white;padding-right: 0.2em;padding-left: 0.2em;position: relative;}#sk-container-id-1 div.sk-item {position: relative;z-index: 1;}#sk-container-id-1 div.sk-parallel {display: flex;align-items: stretch;justify-content: center;background-color: white;position: relative;}#sk-container-id-1 div.sk-item::before, #sk-container-id-1 div.sk-parallel-item::before {content: \"\";position: absolute;border-left: 1px solid gray;box-sizing: border-box;top: 0;bottom: 0;left: 50%;z-index: -1;}#sk-container-id-1 div.sk-parallel-item {display: flex;flex-direction: column;z-index: 1;position: relative;background-color: white;}#sk-container-id-1 div.sk-parallel-item:first-child::after {align-self: flex-end;width: 50%;}#sk-container-id-1 div.sk-parallel-item:last-child::after {align-self: flex-start;width: 50%;}#sk-container-id-1 div.sk-parallel-item:only-child::after {width: 0;}#sk-container-id-1 div.sk-dashed-wrapped {border: 1px dashed gray;margin: 0 0.4em 0.5em 0.4em;box-sizing: border-box;padding-bottom: 0.4em;background-color: white;}#sk-container-id-1 div.sk-label label {font-family: monospace;font-weight: bold;display: inline-block;line-height: 1.2em;}#sk-container-id-1 div.sk-label-container {text-align: center;}#sk-container-id-1 div.sk-container {/* jupyter's `normalize.less` sets `[hidden] { display: none; }` but bootstrap.min.css set `[hidden] { display: none !important; }` so we also need the `!important` here to be able to override the default hidden behavior on the sphinx rendered scikit-learn.org. See: https://github.com/scikit-learn/scikit-learn/issues/21755 */display: inline-block !important;position: relative;}#sk-container-id-1 div.sk-text-repr-fallback {display: none;}</style><div id=\"sk-container-id-1\" class=\"sk-top-container\"><div class=\"sk-text-repr-fallback\"><pre>GridSearchCV(cv=3, estimator=KNeighborsClassifier(), n_jobs=-1,\n",
              "             param_grid={&#x27;metric&#x27;: [&#x27;euclidean&#x27;, &#x27;manhattan&#x27;],\n",
              "                         &#x27;n_neighbors&#x27;: [18, 20, 22],\n",
              "                         &#x27;weights&#x27;: [&#x27;uniform&#x27;, &#x27;distance&#x27;]},\n",
              "             verbose=2)</pre><b>In a Jupyter environment, please rerun this cell to show the HTML representation or trust the notebook. <br />On GitHub, the HTML representation is unable to render, please try loading this page with nbviewer.org.</b></div><div class=\"sk-container\" hidden><div class=\"sk-item sk-dashed-wrapped\"><div class=\"sk-label-container\"><div class=\"sk-label sk-toggleable\"><input class=\"sk-toggleable__control sk-hidden--visually\" id=\"sk-estimator-id-1\" type=\"checkbox\" ><label for=\"sk-estimator-id-1\" class=\"sk-toggleable__label sk-toggleable__label-arrow\">GridSearchCV</label><div class=\"sk-toggleable__content\"><pre>GridSearchCV(cv=3, estimator=KNeighborsClassifier(), n_jobs=-1,\n",
              "             param_grid={&#x27;metric&#x27;: [&#x27;euclidean&#x27;, &#x27;manhattan&#x27;],\n",
              "                         &#x27;n_neighbors&#x27;: [18, 20, 22],\n",
              "                         &#x27;weights&#x27;: [&#x27;uniform&#x27;, &#x27;distance&#x27;]},\n",
              "             verbose=2)</pre></div></div></div><div class=\"sk-parallel\"><div class=\"sk-parallel-item\"><div class=\"sk-item\"><div class=\"sk-label-container\"><div class=\"sk-label sk-toggleable\"><input class=\"sk-toggleable__control sk-hidden--visually\" id=\"sk-estimator-id-2\" type=\"checkbox\" ><label for=\"sk-estimator-id-2\" class=\"sk-toggleable__label sk-toggleable__label-arrow\">estimator: KNeighborsClassifier</label><div class=\"sk-toggleable__content\"><pre>KNeighborsClassifier()</pre></div></div></div><div class=\"sk-serial\"><div class=\"sk-item\"><div class=\"sk-estimator sk-toggleable\"><input class=\"sk-toggleable__control sk-hidden--visually\" id=\"sk-estimator-id-3\" type=\"checkbox\" ><label for=\"sk-estimator-id-3\" class=\"sk-toggleable__label sk-toggleable__label-arrow\">KNeighborsClassifier</label><div class=\"sk-toggleable__content\"><pre>KNeighborsClassifier()</pre></div></div></div></div></div></div></div></div></div></div>"
            ],
            "text/plain": [
              "GridSearchCV(cv=3, estimator=KNeighborsClassifier(), n_jobs=-1,\n",
              "             param_grid={'metric': ['euclidean', 'manhattan'],\n",
              "                         'n_neighbors': [18, 20, 22],\n",
              "                         'weights': ['uniform', 'distance']},\n",
              "             verbose=2)"
            ]
          },
          "execution_count": 48,
          "metadata": {},
          "output_type": "execute_result"
        }
      ],
      "source": [
        "vecinos_search.fit(X_train_c, y_train_c)"
      ]
    },
    {
      "cell_type": "markdown",
      "id": "039271a8",
      "metadata": {
        "id": "039271a8"
      },
      "source": [
        "#### ¿Cuál es nuestro mejor estimador?"
      ]
    },
    {
      "cell_type": "code",
      "execution_count": null,
      "id": "80e71cfe",
      "metadata": {
        "id": "80e71cfe",
        "outputId": "422bd0c9-d898-4146-c6d4-1e054786a428"
      },
      "outputs": [
        {
          "data": {
            "text/html": [
              "<style>#sk-container-id-2 {color: black;background-color: white;}#sk-container-id-2 pre{padding: 0;}#sk-container-id-2 div.sk-toggleable {background-color: white;}#sk-container-id-2 label.sk-toggleable__label {cursor: pointer;display: block;width: 100%;margin-bottom: 0;padding: 0.3em;box-sizing: border-box;text-align: center;}#sk-container-id-2 label.sk-toggleable__label-arrow:before {content: \"▸\";float: left;margin-right: 0.25em;color: #696969;}#sk-container-id-2 label.sk-toggleable__label-arrow:hover:before {color: black;}#sk-container-id-2 div.sk-estimator:hover label.sk-toggleable__label-arrow:before {color: black;}#sk-container-id-2 div.sk-toggleable__content {max-height: 0;max-width: 0;overflow: hidden;text-align: left;background-color: #f0f8ff;}#sk-container-id-2 div.sk-toggleable__content pre {margin: 0.2em;color: black;border-radius: 0.25em;background-color: #f0f8ff;}#sk-container-id-2 input.sk-toggleable__control:checked~div.sk-toggleable__content {max-height: 200px;max-width: 100%;overflow: auto;}#sk-container-id-2 input.sk-toggleable__control:checked~label.sk-toggleable__label-arrow:before {content: \"▾\";}#sk-container-id-2 div.sk-estimator input.sk-toggleable__control:checked~label.sk-toggleable__label {background-color: #d4ebff;}#sk-container-id-2 div.sk-label input.sk-toggleable__control:checked~label.sk-toggleable__label {background-color: #d4ebff;}#sk-container-id-2 input.sk-hidden--visually {border: 0;clip: rect(1px 1px 1px 1px);clip: rect(1px, 1px, 1px, 1px);height: 1px;margin: -1px;overflow: hidden;padding: 0;position: absolute;width: 1px;}#sk-container-id-2 div.sk-estimator {font-family: monospace;background-color: #f0f8ff;border: 1px dotted black;border-radius: 0.25em;box-sizing: border-box;margin-bottom: 0.5em;}#sk-container-id-2 div.sk-estimator:hover {background-color: #d4ebff;}#sk-container-id-2 div.sk-parallel-item::after {content: \"\";width: 100%;border-bottom: 1px solid gray;flex-grow: 1;}#sk-container-id-2 div.sk-label:hover label.sk-toggleable__label {background-color: #d4ebff;}#sk-container-id-2 div.sk-serial::before {content: \"\";position: absolute;border-left: 1px solid gray;box-sizing: border-box;top: 0;bottom: 0;left: 50%;z-index: 0;}#sk-container-id-2 div.sk-serial {display: flex;flex-direction: column;align-items: center;background-color: white;padding-right: 0.2em;padding-left: 0.2em;position: relative;}#sk-container-id-2 div.sk-item {position: relative;z-index: 1;}#sk-container-id-2 div.sk-parallel {display: flex;align-items: stretch;justify-content: center;background-color: white;position: relative;}#sk-container-id-2 div.sk-item::before, #sk-container-id-2 div.sk-parallel-item::before {content: \"\";position: absolute;border-left: 1px solid gray;box-sizing: border-box;top: 0;bottom: 0;left: 50%;z-index: -1;}#sk-container-id-2 div.sk-parallel-item {display: flex;flex-direction: column;z-index: 1;position: relative;background-color: white;}#sk-container-id-2 div.sk-parallel-item:first-child::after {align-self: flex-end;width: 50%;}#sk-container-id-2 div.sk-parallel-item:last-child::after {align-self: flex-start;width: 50%;}#sk-container-id-2 div.sk-parallel-item:only-child::after {width: 0;}#sk-container-id-2 div.sk-dashed-wrapped {border: 1px dashed gray;margin: 0 0.4em 0.5em 0.4em;box-sizing: border-box;padding-bottom: 0.4em;background-color: white;}#sk-container-id-2 div.sk-label label {font-family: monospace;font-weight: bold;display: inline-block;line-height: 1.2em;}#sk-container-id-2 div.sk-label-container {text-align: center;}#sk-container-id-2 div.sk-container {/* jupyter's `normalize.less` sets `[hidden] { display: none; }` but bootstrap.min.css set `[hidden] { display: none !important; }` so we also need the `!important` here to be able to override the default hidden behavior on the sphinx rendered scikit-learn.org. See: https://github.com/scikit-learn/scikit-learn/issues/21755 */display: inline-block !important;position: relative;}#sk-container-id-2 div.sk-text-repr-fallback {display: none;}</style><div id=\"sk-container-id-2\" class=\"sk-top-container\"><div class=\"sk-text-repr-fallback\"><pre>KNeighborsClassifier(metric=&#x27;euclidean&#x27;, n_neighbors=22)</pre><b>In a Jupyter environment, please rerun this cell to show the HTML representation or trust the notebook. <br />On GitHub, the HTML representation is unable to render, please try loading this page with nbviewer.org.</b></div><div class=\"sk-container\" hidden><div class=\"sk-item\"><div class=\"sk-estimator sk-toggleable\"><input class=\"sk-toggleable__control sk-hidden--visually\" id=\"sk-estimator-id-4\" type=\"checkbox\" checked><label for=\"sk-estimator-id-4\" class=\"sk-toggleable__label sk-toggleable__label-arrow\">KNeighborsClassifier</label><div class=\"sk-toggleable__content\"><pre>KNeighborsClassifier(metric=&#x27;euclidean&#x27;, n_neighbors=22)</pre></div></div></div></div></div>"
            ],
            "text/plain": [
              "KNeighborsClassifier(metric='euclidean', n_neighbors=22)"
            ]
          },
          "execution_count": 49,
          "metadata": {},
          "output_type": "execute_result"
        }
      ],
      "source": [
        "vecinos_search.best_estimator_"
      ]
    },
    {
      "cell_type": "code",
      "execution_count": null,
      "id": "aa20a636",
      "metadata": {
        "id": "aa20a636",
        "outputId": "13614eea-7417-442d-da07-421ac0c42b43"
      },
      "outputs": [
        {
          "data": {
            "text/plain": [
              "0.7073170731707318"
            ]
          },
          "execution_count": 50,
          "metadata": {},
          "output_type": "execute_result"
        }
      ],
      "source": [
        "vecinos_search.best_score_"
      ]
    },
    {
      "cell_type": "code",
      "execution_count": null,
      "id": "d9bc3e95",
      "metadata": {
        "id": "d9bc3e95"
      },
      "outputs": [],
      "source": [
        "knn_best=vecinos_search.best_estimator_"
      ]
    },
    {
      "cell_type": "code",
      "execution_count": null,
      "id": "f7c5d5a9",
      "metadata": {
        "id": "f7c5d5a9",
        "outputId": "fa2bda83-1e76-4f8c-f32c-1d6569c337c8"
      },
      "outputs": [
        {
          "data": {
            "text/html": [
              "<style>#sk-container-id-3 {color: black;background-color: white;}#sk-container-id-3 pre{padding: 0;}#sk-container-id-3 div.sk-toggleable {background-color: white;}#sk-container-id-3 label.sk-toggleable__label {cursor: pointer;display: block;width: 100%;margin-bottom: 0;padding: 0.3em;box-sizing: border-box;text-align: center;}#sk-container-id-3 label.sk-toggleable__label-arrow:before {content: \"▸\";float: left;margin-right: 0.25em;color: #696969;}#sk-container-id-3 label.sk-toggleable__label-arrow:hover:before {color: black;}#sk-container-id-3 div.sk-estimator:hover label.sk-toggleable__label-arrow:before {color: black;}#sk-container-id-3 div.sk-toggleable__content {max-height: 0;max-width: 0;overflow: hidden;text-align: left;background-color: #f0f8ff;}#sk-container-id-3 div.sk-toggleable__content pre {margin: 0.2em;color: black;border-radius: 0.25em;background-color: #f0f8ff;}#sk-container-id-3 input.sk-toggleable__control:checked~div.sk-toggleable__content {max-height: 200px;max-width: 100%;overflow: auto;}#sk-container-id-3 input.sk-toggleable__control:checked~label.sk-toggleable__label-arrow:before {content: \"▾\";}#sk-container-id-3 div.sk-estimator input.sk-toggleable__control:checked~label.sk-toggleable__label {background-color: #d4ebff;}#sk-container-id-3 div.sk-label input.sk-toggleable__control:checked~label.sk-toggleable__label {background-color: #d4ebff;}#sk-container-id-3 input.sk-hidden--visually {border: 0;clip: rect(1px 1px 1px 1px);clip: rect(1px, 1px, 1px, 1px);height: 1px;margin: -1px;overflow: hidden;padding: 0;position: absolute;width: 1px;}#sk-container-id-3 div.sk-estimator {font-family: monospace;background-color: #f0f8ff;border: 1px dotted black;border-radius: 0.25em;box-sizing: border-box;margin-bottom: 0.5em;}#sk-container-id-3 div.sk-estimator:hover {background-color: #d4ebff;}#sk-container-id-3 div.sk-parallel-item::after {content: \"\";width: 100%;border-bottom: 1px solid gray;flex-grow: 1;}#sk-container-id-3 div.sk-label:hover label.sk-toggleable__label {background-color: #d4ebff;}#sk-container-id-3 div.sk-serial::before {content: \"\";position: absolute;border-left: 1px solid gray;box-sizing: border-box;top: 0;bottom: 0;left: 50%;z-index: 0;}#sk-container-id-3 div.sk-serial {display: flex;flex-direction: column;align-items: center;background-color: white;padding-right: 0.2em;padding-left: 0.2em;position: relative;}#sk-container-id-3 div.sk-item {position: relative;z-index: 1;}#sk-container-id-3 div.sk-parallel {display: flex;align-items: stretch;justify-content: center;background-color: white;position: relative;}#sk-container-id-3 div.sk-item::before, #sk-container-id-3 div.sk-parallel-item::before {content: \"\";position: absolute;border-left: 1px solid gray;box-sizing: border-box;top: 0;bottom: 0;left: 50%;z-index: -1;}#sk-container-id-3 div.sk-parallel-item {display: flex;flex-direction: column;z-index: 1;position: relative;background-color: white;}#sk-container-id-3 div.sk-parallel-item:first-child::after {align-self: flex-end;width: 50%;}#sk-container-id-3 div.sk-parallel-item:last-child::after {align-self: flex-start;width: 50%;}#sk-container-id-3 div.sk-parallel-item:only-child::after {width: 0;}#sk-container-id-3 div.sk-dashed-wrapped {border: 1px dashed gray;margin: 0 0.4em 0.5em 0.4em;box-sizing: border-box;padding-bottom: 0.4em;background-color: white;}#sk-container-id-3 div.sk-label label {font-family: monospace;font-weight: bold;display: inline-block;line-height: 1.2em;}#sk-container-id-3 div.sk-label-container {text-align: center;}#sk-container-id-3 div.sk-container {/* jupyter's `normalize.less` sets `[hidden] { display: none; }` but bootstrap.min.css set `[hidden] { display: none !important; }` so we also need the `!important` here to be able to override the default hidden behavior on the sphinx rendered scikit-learn.org. See: https://github.com/scikit-learn/scikit-learn/issues/21755 */display: inline-block !important;position: relative;}#sk-container-id-3 div.sk-text-repr-fallback {display: none;}</style><div id=\"sk-container-id-3\" class=\"sk-top-container\"><div class=\"sk-text-repr-fallback\"><pre>KNeighborsClassifier(metric=&#x27;euclidean&#x27;, n_neighbors=22)</pre><b>In a Jupyter environment, please rerun this cell to show the HTML representation or trust the notebook. <br />On GitHub, the HTML representation is unable to render, please try loading this page with nbviewer.org.</b></div><div class=\"sk-container\" hidden><div class=\"sk-item\"><div class=\"sk-estimator sk-toggleable\"><input class=\"sk-toggleable__control sk-hidden--visually\" id=\"sk-estimator-id-5\" type=\"checkbox\" checked><label for=\"sk-estimator-id-5\" class=\"sk-toggleable__label sk-toggleable__label-arrow\">KNeighborsClassifier</label><div class=\"sk-toggleable__content\"><pre>KNeighborsClassifier(metric=&#x27;euclidean&#x27;, n_neighbors=22)</pre></div></div></div></div></div>"
            ],
            "text/plain": [
              "KNeighborsClassifier(metric='euclidean', n_neighbors=22)"
            ]
          },
          "execution_count": 52,
          "metadata": {},
          "output_type": "execute_result"
        }
      ],
      "source": [
        "knn_best.fit(X_train_c, y_train_c)"
      ]
    },
    {
      "cell_type": "code",
      "execution_count": null,
      "id": "91a3a50d",
      "metadata": {
        "id": "91a3a50d"
      },
      "outputs": [],
      "source": [
        "new_prediction=knn_best.predict(X_test_c)"
      ]
    },
    {
      "cell_type": "markdown",
      "id": "59cde108",
      "metadata": {
        "id": "59cde108"
      },
      "source": [
        "#### Métricas"
      ]
    },
    {
      "cell_type": "markdown",
      "id": "dd984210",
      "metadata": {
        "id": "dd984210"
      },
      "source": [
        "Matriz de confusión <br/>\n",
        "\n",
        "True Negative (TN)| False Positive (FP)<br/>\n",
        "==============================<br/>\n",
        "False Negative (FN)| True Positive (TP)"
      ]
    },
    {
      "cell_type": "code",
      "execution_count": null,
      "id": "b55dcafb",
      "metadata": {
        "id": "b55dcafb",
        "outputId": "1bc022cb-90fa-402a-9f11-acf6a9da5d53"
      },
      "outputs": [
        {
          "data": {
            "image/png": "[encoded data removed]",
            "text/plain": [
              "<Figure size 640x480 with 2 Axes>"
            ]
          },
          "metadata": {},
          "output_type": "display_data"
        }
      ],
      "source": [
        "plt.figure()\n",
        "random_confusion=confusion_matrix(y_test_c, new_prediction)\n",
        "sns.heatmap(random_confusion, cmap=\"RdPu\", annot=True);"
      ]
    },
    {
      "cell_type": "code",
      "execution_count": null,
      "id": "fed1563a",
      "metadata": {
        "id": "fed1563a",
        "outputId": "49600a67-c960-4765-c8d5-d12bd592a5fc"
      },
      "outputs": [
        {
          "name": "stdout",
          "output_type": "stream",
          "text": [
            "Accuracy: 73.78%\n",
            "Precision: 74.28%\n",
            "Recall: 98.90%\n",
            "f1 score: 84.84%\n"
          ]
        }
      ],
      "source": [
        "print(f\"Accuracy: {accuracy_score(y_test_c, new_prediction)*100:.2f}%\")\n",
        "print(f\"Precision: {precision_score(y_test_c, new_prediction)*100:.2f}%\")\n",
        "print(f\"Recall: {recall_score(y_test_c, new_prediction)*100:.2f}%\")\n",
        "print(f\"f1 score: {f1_score(y_test_c, new_prediction)*100:.2f}%\")"
      ]
    },
    {
      "cell_type": "code",
      "execution_count": null,
      "id": "e8d8fc8b",
      "metadata": {
        "id": "e8d8fc8b"
      },
      "outputs": [],
      "source": [
        "from matplotlib.colors import ListedColormap\n",
        "from sklearn import neighbors"
      ]
    },
    {
      "cell_type": "code",
      "execution_count": null,
      "id": "bb6aca3e",
      "metadata": {
        "id": "bb6aca3e"
      },
      "outputs": [],
      "source": []
    },
    {
      "cell_type": "markdown",
      "id": "22b3ab28",
      "metadata": {
        "id": "22b3ab28"
      },
      "source": [
        "#### Support Vector Machine"
      ]
    },
    {
      "cell_type": "code",
      "execution_count": null,
      "id": "974e949c",
      "metadata": {
        "id": "974e949c"
      },
      "outputs": [],
      "source": []
    }
  ],
  "metadata": {
    "kernelspec": {
      "display_name": "Python 3 (ipykernel)",
      "language": "python",
      "name": "python3"
    },
    "language_info": {
      "codemirror_mode": {
        "name": "ipython",
        "version": 3
      },
      "file_extension": ".py",
      "mimetype": "text/x-python",
      "name": "python",
      "nbconvert_exporter": "python",
      "pygments_lexer": "ipython3",
      "version": "3.9.16"
    },
    "colab": {
      "provenance": [],
      "include_colab_link": true
    }
  },
  "nbformat": 4,
  "nbformat_minor": 5
}